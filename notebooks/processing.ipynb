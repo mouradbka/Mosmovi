{
 "cells": [
  {
   "cell_type": "code",
   "execution_count": 3,
   "id": "d6e88486",
   "metadata": {},
   "outputs": [],
   "source": [
    "import sys\n",
    "sys.path.append('/home/mourad/DS/Mosmovi/Mosmovi/')\n",
    "import pandas as pd\n",
    "import os\n",
    "import numpy as np\n",
    "import multiprocessing as mp\n",
    "import seaborn as sns\n",
    "import matplotlib.pyplot as plt\n",
    "import random\n",
    "\n",
    "import nltk\n",
    "# nltk.download('punkt')\n",
    "# nltk.download('stopwords')\n",
    "# from textblob import TextBlob\n",
    "from nltk.tokenize import word_tokenize\n",
    "from nltk.probability import FreqDist\n",
    "\n",
    "pd.set_option('max_columns', None)\n",
    "pd.set_option('display.max_rows', 100)\n",
    "from collections import Counter\n",
    "\n",
    "import unicodedata\n",
    "import importlib\n",
    "\n",
    "from sklearn.model_selection import train_test_split\n",
    "\n",
    "pd.set_option('display.float_format', lambda x: '%.18f' % x)"
   ]
  },
  {
   "cell_type": "code",
   "execution_count": 4,
   "id": "4633b49d",
   "metadata": {},
   "outputs": [],
   "source": [
    "def format_csvs_to_df(path):\n",
    "    file_names = os.listdir(path)\n",
    "    frames = []\n",
    "    for n in file_names:\n",
    "        coordinates = [float(x) for x in n[:-4].split('_')]\n",
    "        df = pd.read_csv(path + n, sep=';')\n",
    "        df['coordinates'] = [coordinates] * len(df)\n",
    "        frames.append(df)\n",
    "    df_total = pd.concat(frames)\n",
    "    return df_total\n",
    "\n",
    "def train_test_split_by_users(df, percentage_users = 0.10):\n",
    "    \"\"\"\n",
    "    Take a dataframe in input and return train and test sets. \n",
    "    \"\"\"\n",
    "    users_ids = df.author_id\n",
    "    users_ids = set(df.author_id)\n",
    "    n_samples = int(len(users_ids)*percentage_users)\n",
    "    val_users = random.sample(users_ids, n_samples)\n",
    "    ind = df.author_id.isin(val_users)\n",
    "    return df.loc[~ind], df.loc[ind]"
   ]
  },
  {
   "cell_type": "code",
   "execution_count": 5,
   "id": "e8a3e60a",
   "metadata": {},
   "outputs": [
    {
     "name": "stdout",
     "output_type": "stream",
     "text": [
      "CPU times: user 1min 36s, sys: 6.31 s, total: 1min 42s\n",
      "Wall time: 1min 44s\n"
     ]
    }
   ],
   "source": [
    "%%time\n",
    "df = format_csvs_to_df('../../data/Copy of dev_south_america_merged/')"
   ]
  },
  {
   "cell_type": "code",
   "execution_count": 6,
   "id": "b9b75258",
   "metadata": {},
   "outputs": [
    {
     "name": "stdout",
     "output_type": "stream",
     "text": [
      "CPU times: user 30.7 s, sys: 2.14 s, total: 32.9 s\n",
      "Wall time: 32.9 s\n"
     ]
    }
   ],
   "source": [
    "%%time\n",
    "#Convert to datetime\n",
    "df['created_at'] = pd.to_datetime(df['created_at'])\n",
    "#Extract lat and long\n",
    "df['lat'], df['long'] = df.coordinates.apply(lambda x : x[0]), df.coordinates.apply(lambda x : x[1])\n",
    "#Avoid scientific notation for ID type\n",
    "df['id'] = df['id'].astype(np.int64).astype(str)\n",
    "df['conversation_id'] = df['conversation_id'].fillna(0).astype(np.int64).astype(str)\n",
    "df['in_reply_to_user_id'] = df['in_reply_to_user_id'].fillna(0).astype(np.int64).astype(str)\n",
    "df['author_id'] = df['author_id'].fillna(0).astype(np.int64).astype(str)"
   ]
  },
  {
   "cell_type": "markdown",
   "id": "378080f1",
   "metadata": {},
   "source": [
    "### Duplicates"
   ]
  },
  {
   "cell_type": "code",
   "execution_count": null,
   "id": "6efef5f2",
   "metadata": {},
   "outputs": [],
   "source": []
  }
 ],
 "metadata": {
  "kernelspec": {
   "display_name": "Python 3",
   "language": "python",
   "name": "python3"
  },
  "language_info": {
   "codemirror_mode": {
    "name": "ipython",
    "version": 3
   },
   "file_extension": ".py",
   "mimetype": "text/x-python",
   "name": "python",
   "nbconvert_exporter": "python",
   "pygments_lexer": "ipython3",
   "version": "3.8.8"
  }
 },
 "nbformat": 4,
 "nbformat_minor": 5
}
