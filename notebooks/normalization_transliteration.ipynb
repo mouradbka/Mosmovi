{
 "cells": [
  {
   "cell_type": "code",
   "execution_count": 11,
   "id": "9b7b0acc",
   "metadata": {},
   "outputs": [],
   "source": [
    "import sys\n",
    "sys.path.append('/home/mourad/DS/Mosmovi/Mosmovi/')\n",
    "import pandas as pd\n",
    "import os\n",
    "import numpy as np\n",
    "from utils import Processing as PR, text_preprocessing as TP\n",
    "import multiprocessing as mp\n",
    "import seaborn as sns\n",
    "import matplotlib.pyplot as plt\n",
    "\n",
    "import nltk\n",
    "# nltk.download('punkt')\n",
    "# nltk.download('stopwords')\n",
    "# from textblob import TextBlob\n",
    "from nltk.tokenize import word_tokenize\n",
    "from nltk.probability import FreqDist\n",
    "\n",
    "pd.set_option('max_columns', None)\n",
    "pd.set_option('display.max_rows', 100)\n",
    "from collections import Counter\n",
    "\n",
    "import unicodedata\n",
    "import importlib\n",
    "import utils.Processing #import the module here, so that it can be reloaded.\n",
    "importlib.reload(utils.Processing)"
   ]
  },
  {
   "cell_type": "code",
   "execution_count": 6,
   "id": "f902cad4",
   "metadata": {},
   "outputs": [
    {
     "name": "stdout",
     "output_type": "stream",
     "text": [
      "(10815072, 35)\n",
      "CPU times: user 1min 47s, sys: 25.6 s, total: 2min 12s\n",
      "Wall time: 2min 19s\n"
     ]
    }
   ],
   "source": [
    "%%time\n",
    "df = PR.format_csvs_to_df('../../data/Copy of dev_south_america_merged/')\n",
    "# df = pd.read_csv('../data/formated.csv')\n",
    "print(df.shape)"
   ]
  },
  {
   "cell_type": "code",
   "execution_count": 7,
   "id": "d066d76a",
   "metadata": {},
   "outputs": [
    {
     "name": "stdout",
     "output_type": "stream",
     "text": [
      "CPU times: user 30.4 s, sys: 1.6 s, total: 32 s\n",
      "Wall time: 32 s\n"
     ]
    }
   ],
   "source": [
    "%%time\n",
    "df['created_at'] = pd.to_datetime(df['created_at'])\n",
    "df['lat'], df['long'] = df.coordinates.apply(lambda x : x[0]), df.coordinates.apply(lambda x : x[1])\n",
    "df['id'] = df['id'].astype(np.int64).astype(str)\n",
    "df['conversation_id'] = df['conversation_id'].fillna(0).astype(np.int64).astype(str)\n",
    "df['in_reply_to_user_id'] = df['in_reply_to_user_id'].fillna(0).astype(np.int64).astype(str)\n",
    "df['author_id'] = df['author_id'].fillna(0).astype(np.int64).astype(str)"
   ]
  },
  {
   "cell_type": "code",
   "execution_count": 15,
   "id": "9d80f92f",
   "metadata": {},
   "outputs": [],
   "source": [
    "df.text = df.text.apply(lambda x : unicodedata.normalize('NFKC',  str(x)))"
   ]
  },
  {
   "cell_type": "code",
   "execution_count": null,
   "id": "de3e50c0",
   "metadata": {},
   "outputs": [],
   "source": []
  }
 ],
 "metadata": {
  "kernelspec": {
   "display_name": "Python 3",
   "language": "python",
   "name": "python3"
  },
  "language_info": {
   "codemirror_mode": {
    "name": "ipython",
    "version": 3
   },
   "file_extension": ".py",
   "mimetype": "text/x-python",
   "name": "python",
   "nbconvert_exporter": "python",
   "pygments_lexer": "ipython3",
   "version": "3.8.8"
  }
 },
 "nbformat": 4,
 "nbformat_minor": 5
}
