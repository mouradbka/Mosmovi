{
 "cells": [
  {
   "cell_type": "code",
   "execution_count": 1,
   "id": "2915cc3d",
   "metadata": {},
   "outputs": [
    {
     "data": {
      "text/plain": [
       "'/home/mourad/DS/FairHomes'"
      ]
     },
     "execution_count": 1,
     "metadata": {},
     "output_type": "execute_result"
    }
   ],
   "source": [
    "import os\n",
    "os.environ['PYTHONPATH']"
   ]
  },
  {
   "cell_type": "code",
   "execution_count": 2,
   "id": "ede912a2",
   "metadata": {},
   "outputs": [],
   "source": [
    "import sys\n",
    "sys.path.append('/home/mourad/DS/Mosmovi/Mosmovi/')"
   ]
  },
  {
   "cell_type": "code",
   "execution_count": 3,
   "id": "1e827f4b",
   "metadata": {},
   "outputs": [
    {
     "ename": "ImportError",
     "evalue": "cannot import name 'Processing' from 'utils' (/home/mourad/DS/Mosmovi/Mosmovi/utils.py)",
     "output_type": "error",
     "traceback": [
      "\u001b[0;31m---------------------------------------------------------------------------\u001b[0m",
      "\u001b[0;31mImportError\u001b[0m                               Traceback (most recent call last)",
      "\u001b[0;32m<ipython-input-3-11164cc53051>\u001b[0m in \u001b[0;36m<module>\u001b[0;34m\u001b[0m\n\u001b[1;32m      2\u001b[0m \u001b[0;32mimport\u001b[0m \u001b[0mos\u001b[0m\u001b[0;34m\u001b[0m\u001b[0;34m\u001b[0m\u001b[0m\n\u001b[1;32m      3\u001b[0m \u001b[0;32mimport\u001b[0m \u001b[0mnumpy\u001b[0m \u001b[0;32mas\u001b[0m \u001b[0mnp\u001b[0m\u001b[0;34m\u001b[0m\u001b[0;34m\u001b[0m\u001b[0m\n\u001b[0;32m----> 4\u001b[0;31m \u001b[0;32mfrom\u001b[0m \u001b[0mutils\u001b[0m \u001b[0;32mimport\u001b[0m \u001b[0mProcessing\u001b[0m \u001b[0;32mas\u001b[0m \u001b[0mPR\u001b[0m\u001b[0;34m,\u001b[0m \u001b[0mtext_preprocessing\u001b[0m \u001b[0;32mas\u001b[0m \u001b[0mTP\u001b[0m\u001b[0;34m\u001b[0m\u001b[0;34m\u001b[0m\u001b[0m\n\u001b[0m\u001b[1;32m      5\u001b[0m \u001b[0;32mimport\u001b[0m \u001b[0mmultiprocessing\u001b[0m \u001b[0;32mas\u001b[0m \u001b[0mmp\u001b[0m\u001b[0;34m\u001b[0m\u001b[0;34m\u001b[0m\u001b[0m\n\u001b[1;32m      6\u001b[0m \u001b[0;32mimport\u001b[0m \u001b[0mseaborn\u001b[0m \u001b[0;32mas\u001b[0m \u001b[0msns\u001b[0m\u001b[0;34m\u001b[0m\u001b[0;34m\u001b[0m\u001b[0m\n",
      "\u001b[0;31mImportError\u001b[0m: cannot import name 'Processing' from 'utils' (/home/mourad/DS/Mosmovi/Mosmovi/utils.py)"
     ]
    }
   ],
   "source": [
    "import pandas as pd\n",
    "import os\n",
    "import numpy as np\n",
    "from utils import Processing as PR, text_preprocessing as TP\n",
    "import multiprocessing as mp\n",
    "import seaborn as sns\n",
    "import matplotlib.pyplot as plt\n",
    "\n",
    "import nltk\n",
    "# nltk.download('punkt')\n",
    "# nltk.download('stopwords')\n",
    "# from textblob import TextBlob\n",
    "from nltk.tokenize import word_tokenize\n",
    "from nltk.probability import FreqDist\n",
    "\n",
    "pd.set_option('max_columns', None)\n",
    "pd.set_option('display.max_rows', 100)\n",
    "from collections import Counter"
   ]
  },
  {
   "cell_type": "code",
   "execution_count": null,
   "id": "ffa5842f",
   "metadata": {},
   "outputs": [],
   "source": [
    "import importlib\n",
    "import utils.Processing #import the module here, so that it can be reloaded.\n",
    "importlib.reload(utils.Processing)"
   ]
  },
  {
   "cell_type": "code",
   "execution_count": 7,
   "id": "5a87f4c0",
   "metadata": {},
   "outputs": [
    {
     "name": "stdout",
     "output_type": "stream",
     "text": [
      "(6805412, 35)\n",
      "CPU times: user 1min 39s, sys: 11.3 s, total: 1min 50s\n",
      "Wall time: 1min 52s\n"
     ]
    }
   ],
   "source": [
    "%%time\n",
    "df = PR.format_csvs_to_df('../../data/Copy of dev_south_america_merged/')\n",
    "# df = pd.read_csv('../data/formated.csv')\n",
    "df = df.drop_duplicates(subset=['id'])\n",
    "print(df.shape)"
   ]
  },
  {
   "cell_type": "code",
   "execution_count": 8,
   "id": "c2e2137b",
   "metadata": {},
   "outputs": [
    {
     "name": "stdout",
     "output_type": "stream",
     "text": [
      "CPU times: user 19.4 s, sys: 1.22 s, total: 20.6 s\n",
      "Wall time: 20.6 s\n"
     ]
    }
   ],
   "source": [
    "%%time\n",
    "df['created_at'] = pd.to_datetime(df['created_at'])\n",
    "df['lat'], df['long'] = df.coordinates.apply(lambda x : x[0]), df.coordinates.apply(lambda x : x[1])\n",
    "df['id'] = df['id'].astype(np.int64).astype(str)\n",
    "df['conversation_id'] = df['conversation_id'].fillna(0).astype(np.int64).astype(str)\n",
    "df['in_reply_to_user_id'] = df['in_reply_to_user_id'].fillna(0).astype(np.int64).astype(str)\n",
    "df['author_id'] = df['author_id'].fillna(0).astype(np.int64).astype(str)\n",
    "# df['geo_country'] = df['geo_country'].apply(lambda x : PR.rename_coutries(x)) "
   ]
  },
  {
   "cell_type": "code",
   "execution_count": 9,
   "id": "32455d20",
   "metadata": {},
   "outputs": [
    {
     "name": "stdout",
     "output_type": "stream",
     "text": [
      "CPU times: user 2 µs, sys: 1 µs, total: 3 µs\n",
      "Wall time: 4.53 µs\n"
     ]
    }
   ],
   "source": [
    "%%time\n",
    "# df.to_csv('../../data/formated.csv')"
   ]
  },
  {
   "cell_type": "code",
   "execution_count": 10,
   "id": "539790a2",
   "metadata": {},
   "outputs": [
    {
     "name": "stdout",
     "output_type": "stream",
     "text": [
      "(6805412, 37)\n"
     ]
    }
   ],
   "source": [
    "print(df.shape)\n",
    "# df.id.value_counts()"
   ]
  },
  {
   "cell_type": "code",
   "execution_count": 11,
   "id": "0bd6d9ac",
   "metadata": {},
   "outputs": [
    {
     "data": {
      "text/html": [
       "<div>\n",
       "<style scoped>\n",
       "    .dataframe tbody tr th:only-of-type {\n",
       "        vertical-align: middle;\n",
       "    }\n",
       "\n",
       "    .dataframe tbody tr th {\n",
       "        vertical-align: top;\n",
       "    }\n",
       "\n",
       "    .dataframe thead th {\n",
       "        text-align: right;\n",
       "    }\n",
       "</style>\n",
       "<table border=\"1\" class=\"dataframe\">\n",
       "  <thead>\n",
       "    <tr style=\"text-align: right;\">\n",
       "      <th></th>\n",
       "      <th>lang</th>\n",
       "      <th>id</th>\n",
       "      <th>created_at</th>\n",
       "      <th>text</th>\n",
       "      <th>conversation_id</th>\n",
       "      <th>in_reply_to_user_id</th>\n",
       "      <th>reply_settings</th>\n",
       "      <th>source</th>\n",
       "      <th>possibly_sensitive</th>\n",
       "      <th>geo_place_id</th>\n",
       "      <th>geo_place_type</th>\n",
       "      <th>geo_country</th>\n",
       "      <th>geo_full_name</th>\n",
       "      <th>geo_country_code</th>\n",
       "      <th>geo_geo_type</th>\n",
       "      <th>geo_geo_bbox</th>\n",
       "      <th>geo_geo_properties</th>\n",
       "      <th>author_id</th>\n",
       "      <th>author_profile_image_url</th>\n",
       "      <th>author_username</th>\n",
       "      <th>author_url</th>\n",
       "      <th>author_name</th>\n",
       "      <th>author_created_at</th>\n",
       "      <th>author_verified</th>\n",
       "      <th>author_protected</th>\n",
       "      <th>author_description</th>\n",
       "      <th>retweet_count</th>\n",
       "      <th>reply_count</th>\n",
       "      <th>like_count</th>\n",
       "      <th>quote_count</th>\n",
       "      <th>followers_count</th>\n",
       "      <th>following_count</th>\n",
       "      <th>tweet_count</th>\n",
       "      <th>listed_count</th>\n",
       "      <th>coordinates</th>\n",
       "      <th>lat</th>\n",
       "      <th>long</th>\n",
       "    </tr>\n",
       "  </thead>\n",
       "  <tbody>\n",
       "    <tr>\n",
       "      <th>2821</th>\n",
       "      <td>es</td>\n",
       "      <td>1356210702650904576</td>\n",
       "      <td>2021-02-01 12:00:03+00:00</td>\n",
       "      <td>Acaba de publicar una foto en Urbanización San...</td>\n",
       "      <td>1356210702650904576</td>\n",
       "      <td>0</td>\n",
       "      <td>everyone</td>\n",
       "      <td>Instagram</td>\n",
       "      <td>True</td>\n",
       "      <td>0176ea0c39765f09</td>\n",
       "      <td>city</td>\n",
       "      <td>Venezuela</td>\n",
       "      <td>San Francisco, Venezuela</td>\n",
       "      <td>VE</td>\n",
       "      <td>NaN</td>\n",
       "      <td>[-71.6788483, 10.5293207, -71.6111978, 10.5961...</td>\n",
       "      <td>{}</td>\n",
       "      <td>2471875070</td>\n",
       "      <td>https://pbs.twimg.com/profile_images/127973853...</td>\n",
       "      <td>renelop97965381</td>\n",
       "      <td>NaN</td>\n",
       "      <td>INMOBILIARIA ASESOR ESOR René Lopez K.L MARCAIBO</td>\n",
       "      <td>2014-05-01T03:37:13.000Z</td>\n",
       "      <td>False</td>\n",
       "      <td>False</td>\n",
       "      <td>NaN</td>\n",
       "      <td>0.0</td>\n",
       "      <td>0.0</td>\n",
       "      <td>0.0</td>\n",
       "      <td>0.0</td>\n",
       "      <td>3</td>\n",
       "      <td>3</td>\n",
       "      <td>740</td>\n",
       "      <td>0</td>\n",
       "      <td>[10.260839184739002, -71.97499804311941]</td>\n",
       "      <td>10.260839</td>\n",
       "      <td>-71.974998</td>\n",
       "    </tr>\n",
       "    <tr>\n",
       "      <th>2820</th>\n",
       "      <td>es</td>\n",
       "      <td>1356210748637241344</td>\n",
       "      <td>2021-02-01 12:00:14+00:00</td>\n",
       "      <td>El lunes ya me empezó mal 🥳.</td>\n",
       "      <td>1356210748637241344</td>\n",
       "      <td>0</td>\n",
       "      <td>everyone</td>\n",
       "      <td>Twitter for iPhone</td>\n",
       "      <td>False</td>\n",
       "      <td>002e2add0d1ff144</td>\n",
       "      <td>city</td>\n",
       "      <td>Venezuela</td>\n",
       "      <td>Ciudad Ojeda, Venezuela</td>\n",
       "      <td>VE</td>\n",
       "      <td>NaN</td>\n",
       "      <td>[-71.3538208, 10.1781855, -71.2887573, 10.2315...</td>\n",
       "      <td>{}</td>\n",
       "      <td>116914586</td>\n",
       "      <td>https://pbs.twimg.com/profile_images/134374322...</td>\n",
       "      <td>Saidyaraujo</td>\n",
       "      <td>https://t.co/dShomYDPG4</td>\n",
       "      <td>Saidy</td>\n",
       "      <td>2010-02-23T23:56:07.000Z</td>\n",
       "      <td>False</td>\n",
       "      <td>False</td>\n",
       "      <td>Post Nubila Phoebus. 🌤</td>\n",
       "      <td>0.0</td>\n",
       "      <td>1.0</td>\n",
       "      <td>0.0</td>\n",
       "      <td>0.0</td>\n",
       "      <td>796</td>\n",
       "      <td>423</td>\n",
       "      <td>38182</td>\n",
       "      <td>6</td>\n",
       "      <td>[10.260839184739002, -71.97499804311941]</td>\n",
       "      <td>10.260839</td>\n",
       "      <td>-71.974998</td>\n",
       "    </tr>\n",
       "    <tr>\n",
       "      <th>4671</th>\n",
       "      <td>es</td>\n",
       "      <td>1356210789477191680</td>\n",
       "      <td>2021-02-01 12:00:24+00:00</td>\n",
       "      <td>@AndresCjn41 @Maridon13335354 Las cajitas Erót...</td>\n",
       "      <td>1353150416972881920</td>\n",
       "      <td>3057698002</td>\n",
       "      <td>everyone</td>\n",
       "      <td>Twitter for Android</td>\n",
       "      <td>False</td>\n",
       "      <td>0170d9df339a9451</td>\n",
       "      <td>city</td>\n",
       "      <td>Colombia</td>\n",
       "      <td>Riohacha, Colombia</td>\n",
       "      <td>CO</td>\n",
       "      <td>NaN</td>\n",
       "      <td>[-73.3878010031889, 10.907056003372, -72.60212...</td>\n",
       "      <td>{}</td>\n",
       "      <td>1351759796983181312</td>\n",
       "      <td>https://pbs.twimg.com/profile_images/135176020...</td>\n",
       "      <td>puntog_tienda</td>\n",
       "      <td>https://t.co/na293qCNhD</td>\n",
       "      <td>PuntoGTienda</td>\n",
       "      <td>2021-01-20T05:14:27.000Z</td>\n",
       "      <td>False</td>\n",
       "      <td>False</td>\n",
       "      <td>Somos los cómplices perfectos del Placer ❤️ En...</td>\n",
       "      <td>0.0</td>\n",
       "      <td>0.0</td>\n",
       "      <td>0.0</td>\n",
       "      <td>0.0</td>\n",
       "      <td>37</td>\n",
       "      <td>24</td>\n",
       "      <td>22</td>\n",
       "      <td>0</td>\n",
       "      <td>[11.343964420474848, -72.29185226444467]</td>\n",
       "      <td>11.343964</td>\n",
       "      <td>-72.291852</td>\n",
       "    </tr>\n",
       "    <tr>\n",
       "      <th>3482</th>\n",
       "      <td>es</td>\n",
       "      <td>1356210882355802112</td>\n",
       "      <td>2021-02-01 12:00:46+00:00</td>\n",
       "      <td>Pues crealooo,porque no me leí nada de eso pro...</td>\n",
       "      <td>1356210882355802112</td>\n",
       "      <td>0</td>\n",
       "      <td>everyone</td>\n",
       "      <td>Twitter for iPhone</td>\n",
       "      <td>False</td>\n",
       "      <td>01030be40ff4ff39</td>\n",
       "      <td>city</td>\n",
       "      <td>Colombia</td>\n",
       "      <td>Sahagún, Colombia</td>\n",
       "      <td>CO</td>\n",
       "      <td>NaN</td>\n",
       "      <td>[-75.5609759988304, 8.56956300178352, -75.2774...</td>\n",
       "      <td>{}</td>\n",
       "      <td>1115724327435956224</td>\n",
       "      <td>https://pbs.twimg.com/profile_images/142053884...</td>\n",
       "      <td>ChechooSerpa</td>\n",
       "      <td>NaN</td>\n",
       "      <td>Chechoo_Serpa🌞.</td>\n",
       "      <td>2019-04-09T21:13:03.000Z</td>\n",
       "      <td>False</td>\n",
       "      <td>False</td>\n",
       "      <td>Estudiante de Derecho 👨‍🎓 ⚖️</td>\n",
       "      <td>0.0</td>\n",
       "      <td>0.0</td>\n",
       "      <td>3.0</td>\n",
       "      <td>0.0</td>\n",
       "      <td>63</td>\n",
       "      <td>262</td>\n",
       "      <td>2024</td>\n",
       "      <td>0</td>\n",
       "      <td>[8.633174749054467, -75.40033266090484]</td>\n",
       "      <td>8.633175</td>\n",
       "      <td>-75.400333</td>\n",
       "    </tr>\n",
       "    <tr>\n",
       "      <th>5623</th>\n",
       "      <td>es</td>\n",
       "      <td>1356210903507750912</td>\n",
       "      <td>2021-02-01 12:00:51+00:00</td>\n",
       "      <td>Todos esos barberos intensos me dan como ladil...</td>\n",
       "      <td>1356210903507750912</td>\n",
       "      <td>0</td>\n",
       "      <td>everyone</td>\n",
       "      <td>Twitter for Android</td>\n",
       "      <td>False</td>\n",
       "      <td>015e5397777769a2</td>\n",
       "      <td>city</td>\n",
       "      <td>Venezuela</td>\n",
       "      <td>Mérida, Venezuela</td>\n",
       "      <td>VE</td>\n",
       "      <td>NaN</td>\n",
       "      <td>[-71.1957474, 8.5660877, -71.1269677, 8.631216]</td>\n",
       "      <td>{}</td>\n",
       "      <td>199494386</td>\n",
       "      <td>https://pbs.twimg.com/profile_images/144149718...</td>\n",
       "      <td>mierdatilin</td>\n",
       "      <td>NaN</td>\n",
       "      <td>siyei</td>\n",
       "      <td>2010-10-07T00:46:57.000Z</td>\n",
       "      <td>False</td>\n",
       "      <td>False</td>\n",
       "      <td>Pórtate bien</td>\n",
       "      <td>0.0</td>\n",
       "      <td>0.0</td>\n",
       "      <td>0.0</td>\n",
       "      <td>0.0</td>\n",
       "      <td>374</td>\n",
       "      <td>145</td>\n",
       "      <td>17710</td>\n",
       "      <td>0</td>\n",
       "      <td>[8.635918710683876, -71.56215985722785]</td>\n",
       "      <td>8.635919</td>\n",
       "      <td>-71.562160</td>\n",
       "    </tr>\n",
       "  </tbody>\n",
       "</table>\n",
       "</div>"
      ],
      "text/plain": [
       "     lang                   id                created_at  \\\n",
       "2821   es  1356210702650904576 2021-02-01 12:00:03+00:00   \n",
       "2820   es  1356210748637241344 2021-02-01 12:00:14+00:00   \n",
       "4671   es  1356210789477191680 2021-02-01 12:00:24+00:00   \n",
       "3482   es  1356210882355802112 2021-02-01 12:00:46+00:00   \n",
       "5623   es  1356210903507750912 2021-02-01 12:00:51+00:00   \n",
       "\n",
       "                                                   text      conversation_id  \\\n",
       "2821  Acaba de publicar una foto en Urbanización San...  1356210702650904576   \n",
       "2820                       El lunes ya me empezó mal 🥳.  1356210748637241344   \n",
       "4671  @AndresCjn41 @Maridon13335354 Las cajitas Erót...  1353150416972881920   \n",
       "3482  Pues crealooo,porque no me leí nada de eso pro...  1356210882355802112   \n",
       "5623  Todos esos barberos intensos me dan como ladil...  1356210903507750912   \n",
       "\n",
       "     in_reply_to_user_id reply_settings               source  \\\n",
       "2821                   0       everyone            Instagram   \n",
       "2820                   0       everyone   Twitter for iPhone   \n",
       "4671          3057698002       everyone  Twitter for Android   \n",
       "3482                   0       everyone   Twitter for iPhone   \n",
       "5623                   0       everyone  Twitter for Android   \n",
       "\n",
       "     possibly_sensitive      geo_place_id geo_place_type geo_country  \\\n",
       "2821               True  0176ea0c39765f09           city   Venezuela   \n",
       "2820              False  002e2add0d1ff144           city   Venezuela   \n",
       "4671              False  0170d9df339a9451           city    Colombia   \n",
       "3482              False  01030be40ff4ff39           city    Colombia   \n",
       "5623              False  015e5397777769a2           city   Venezuela   \n",
       "\n",
       "                 geo_full_name geo_country_code  geo_geo_type  \\\n",
       "2821  San Francisco, Venezuela               VE           NaN   \n",
       "2820   Ciudad Ojeda, Venezuela               VE           NaN   \n",
       "4671        Riohacha, Colombia               CO           NaN   \n",
       "3482         Sahagún, Colombia               CO           NaN   \n",
       "5623         Mérida, Venezuela               VE           NaN   \n",
       "\n",
       "                                           geo_geo_bbox geo_geo_properties  \\\n",
       "2821  [-71.6788483, 10.5293207, -71.6111978, 10.5961...                 {}   \n",
       "2820  [-71.3538208, 10.1781855, -71.2887573, 10.2315...                 {}   \n",
       "4671  [-73.3878010031889, 10.907056003372, -72.60212...                 {}   \n",
       "3482  [-75.5609759988304, 8.56956300178352, -75.2774...                 {}   \n",
       "5623    [-71.1957474, 8.5660877, -71.1269677, 8.631216]                 {}   \n",
       "\n",
       "                author_id                           author_profile_image_url  \\\n",
       "2821           2471875070  https://pbs.twimg.com/profile_images/127973853...   \n",
       "2820            116914586  https://pbs.twimg.com/profile_images/134374322...   \n",
       "4671  1351759796983181312  https://pbs.twimg.com/profile_images/135176020...   \n",
       "3482  1115724327435956224  https://pbs.twimg.com/profile_images/142053884...   \n",
       "5623            199494386  https://pbs.twimg.com/profile_images/144149718...   \n",
       "\n",
       "      author_username               author_url  \\\n",
       "2821  renelop97965381                      NaN   \n",
       "2820      Saidyaraujo  https://t.co/dShomYDPG4   \n",
       "4671    puntog_tienda  https://t.co/na293qCNhD   \n",
       "3482     ChechooSerpa                      NaN   \n",
       "5623      mierdatilin                      NaN   \n",
       "\n",
       "                                           author_name  \\\n",
       "2821  INMOBILIARIA ASESOR ESOR René Lopez K.L MARCAIBO   \n",
       "2820                                             Saidy   \n",
       "4671                                      PuntoGTienda   \n",
       "3482                                   Chechoo_Serpa🌞.   \n",
       "5623                                             siyei   \n",
       "\n",
       "             author_created_at  author_verified  author_protected  \\\n",
       "2821  2014-05-01T03:37:13.000Z            False             False   \n",
       "2820  2010-02-23T23:56:07.000Z            False             False   \n",
       "4671  2021-01-20T05:14:27.000Z            False             False   \n",
       "3482  2019-04-09T21:13:03.000Z            False             False   \n",
       "5623  2010-10-07T00:46:57.000Z            False             False   \n",
       "\n",
       "                                     author_description  retweet_count  \\\n",
       "2821                                                NaN            0.0   \n",
       "2820                             Post Nubila Phoebus. 🌤            0.0   \n",
       "4671  Somos los cómplices perfectos del Placer ❤️ En...            0.0   \n",
       "3482                       Estudiante de Derecho 👨‍🎓 ⚖️            0.0   \n",
       "5623                                       Pórtate bien            0.0   \n",
       "\n",
       "      reply_count  like_count  quote_count  followers_count  following_count  \\\n",
       "2821          0.0         0.0          0.0                3                3   \n",
       "2820          1.0         0.0          0.0              796              423   \n",
       "4671          0.0         0.0          0.0               37               24   \n",
       "3482          0.0         3.0          0.0               63              262   \n",
       "5623          0.0         0.0          0.0              374              145   \n",
       "\n",
       "      tweet_count  listed_count                               coordinates  \\\n",
       "2821          740             0  [10.260839184739002, -71.97499804311941]   \n",
       "2820        38182             6  [10.260839184739002, -71.97499804311941]   \n",
       "4671           22             0  [11.343964420474848, -72.29185226444467]   \n",
       "3482         2024             0   [8.633174749054467, -75.40033266090484]   \n",
       "5623        17710             0   [8.635918710683876, -71.56215985722785]   \n",
       "\n",
       "            lat       long  \n",
       "2821  10.260839 -71.974998  \n",
       "2820  10.260839 -71.974998  \n",
       "4671  11.343964 -72.291852  \n",
       "3482   8.633175 -75.400333  \n",
       "5623   8.635919 -71.562160  "
      ]
     },
     "execution_count": 11,
     "metadata": {},
     "output_type": "execute_result"
    }
   ],
   "source": [
    "df.sort_values('id').head()"
   ]
  },
  {
   "cell_type": "markdown",
   "id": "7da2fed2",
   "metadata": {},
   "source": [
    "### Duplicates"
   ]
  },
  {
   "cell_type": "code",
   "execution_count": 12,
   "id": "73fe68fb",
   "metadata": {},
   "outputs": [
    {
     "name": "stdout",
     "output_type": "stream",
     "text": [
      "CPU times: user 6.51 s, sys: 3.14 s, total: 9.65 s\n",
      "Wall time: 9.68 s\n"
     ]
    }
   ],
   "source": [
    "%%time \n",
    "df_dupli_sort = df[df.duplicated('id')].sort_values('id')"
   ]
  },
  {
   "cell_type": "code",
   "execution_count": 13,
   "id": "09ee9254",
   "metadata": {},
   "outputs": [
    {
     "data": {
      "text/html": [
       "<div>\n",
       "<style scoped>\n",
       "    .dataframe tbody tr th:only-of-type {\n",
       "        vertical-align: middle;\n",
       "    }\n",
       "\n",
       "    .dataframe tbody tr th {\n",
       "        vertical-align: top;\n",
       "    }\n",
       "\n",
       "    .dataframe thead th {\n",
       "        text-align: right;\n",
       "    }\n",
       "</style>\n",
       "<table border=\"1\" class=\"dataframe\">\n",
       "  <thead>\n",
       "    <tr style=\"text-align: right;\">\n",
       "      <th></th>\n",
       "      <th>id</th>\n",
       "      <th>created_at</th>\n",
       "      <th>text</th>\n",
       "      <th>geo_geo_bbox</th>\n",
       "      <th>coordinates</th>\n",
       "    </tr>\n",
       "  </thead>\n",
       "  <tbody>\n",
       "  </tbody>\n",
       "</table>\n",
       "</div>"
      ],
      "text/plain": [
       "Empty DataFrame\n",
       "Columns: [id, created_at, text, geo_geo_bbox, coordinates]\n",
       "Index: []"
      ]
     },
     "execution_count": 13,
     "metadata": {},
     "output_type": "execute_result"
    }
   ],
   "source": [
    "df_dupli_sort[['id', 'created_at', 'text','geo_geo_bbox', 'coordinates']].head(10)"
   ]
  },
  {
   "cell_type": "markdown",
   "id": "28224949",
   "metadata": {},
   "source": [
    "### Date"
   ]
  },
  {
   "cell_type": "code",
   "execution_count": 14,
   "id": "9799eab2",
   "metadata": {},
   "outputs": [
    {
     "name": "stdout",
     "output_type": "stream",
     "text": [
      "CPU times: user 19.5 s, sys: 4.08 ms, total: 19.5 s\n",
      "Wall time: 19.5 s\n"
     ]
    },
    {
     "data": {
      "text/plain": [
       "(Timestamp('2021-02-01 12:00:03+0000', tz='UTC'),\n",
       " Timestamp('2021-09-01 11:59:59+0000', tz='UTC'))"
      ]
     },
     "execution_count": 14,
     "metadata": {},
     "output_type": "execute_result"
    }
   ],
   "source": [
    "%%time\n",
    "(min(df.created_at), max(df.created_at))"
   ]
  },
  {
   "cell_type": "markdown",
   "id": "b9d293a0",
   "metadata": {},
   "source": [
    "### Lattitude / Longitude"
   ]
  },
  {
   "cell_type": "code",
   "execution_count": 15,
   "id": "08e25628",
   "metadata": {},
   "outputs": [
    {
     "name": "stdout",
     "output_type": "stream",
     "text": [
      "latitude: -54.69321231192183 12.429793434161136\n",
      "longitude: -91.17963727111682 -32.18832508121774\n"
     ]
    }
   ],
   "source": [
    "print('latitude:', min(df.lat), max(df.lat))\n",
    "print('longitude:',min(df.long), max(df.long))"
   ]
  },
  {
   "cell_type": "markdown",
   "id": "62d94cad",
   "metadata": {},
   "source": [
    "### Categorical values count"
   ]
  },
  {
   "cell_type": "markdown",
   "id": "588848b0",
   "metadata": {},
   "source": [
    "#### Languages"
   ]
  },
  {
   "cell_type": "code",
   "execution_count": 16,
   "id": "56c59004",
   "metadata": {},
   "outputs": [
    {
     "data": {
      "text/plain": [
       "pt     3479506\n",
       "es     2236153\n",
       "und     738817\n",
       "en      161558\n",
       "it       31656\n",
       "Name: lang, dtype: int64"
      ]
     },
     "execution_count": 16,
     "metadata": {},
     "output_type": "execute_result"
    }
   ],
   "source": [
    "df.lang.value_counts().head()"
   ]
  },
  {
   "cell_type": "code",
   "execution_count": 17,
   "id": "052251a9",
   "metadata": {},
   "outputs": [],
   "source": [
    "df_lang = pd.DataFrame(df.lang.value_counts()).reset_index().rename(columns={'index':'languages', 'lang':'count'})\n",
    "df_lang.loc[len(df.index)] = ['other', df_lang.loc[df_lang['count']<280886]['count'].sum()]"
   ]
  },
  {
   "cell_type": "code",
   "execution_count": 18,
   "id": "c24f7779",
   "metadata": {},
   "outputs": [
    {
     "data": {
      "image/png": "[encoded data removed]",
      "text/plain": [
       "<Figure size 432x288 with 1 Axes>"
      ]
     },
     "metadata": {},
     "output_type": "display_data"
    }
   ],
   "source": [
    "sns.set_theme(style=\"whitegrid\")\n",
    "\n",
    "ax = sns.barplot(x=\"languages\", y=\"count\", data=df_lang.sort_values('count', ascending=False).head())"
   ]
  },
  {
   "cell_type": "markdown",
   "id": "0e5a2ae5",
   "metadata": {},
   "source": [
    "#### Reply settings\n",
    "everyone, following, mentionedUsers, other"
   ]
  },
  {
   "cell_type": "code",
   "execution_count": 19,
   "id": "c98c9151",
   "metadata": {},
   "outputs": [
    {
     "data": {
      "text/plain": [
       "everyone          6774157\n",
       "following           14886\n",
       "mentionedUsers       3258\n",
       "other                  11\n",
       "Name: reply_settings, dtype: int64"
      ]
     },
     "execution_count": 19,
     "metadata": {},
     "output_type": "execute_result"
    }
   ],
   "source": [
    "df.reply_settings.value_counts()"
   ]
  },
  {
   "cell_type": "markdown",
   "id": "2dabe413",
   "metadata": {},
   "source": [
    "#### Source"
   ]
  },
  {
   "cell_type": "code",
   "execution_count": 20,
   "id": "dfa48cfa",
   "metadata": {},
   "outputs": [
    {
     "data": {
      "text/plain": [
       "Twitter for Android                4798302\n",
       "Twitter for iPhone                 1713818\n",
       "Instagram                           232254\n",
       "Central132                           20881\n",
       "Foursquare                            5552\n",
       "                                    ...   \n",
       "Falcon Social Media Management           1\n",
       "Twitterrific for iOS                     1\n",
       "Twitter for  iPhone                      1\n",
       "Oktopost                                 1\n",
       "morning_relay                            1\n",
       "Name: source, Length: 114, dtype: int64"
      ]
     },
     "execution_count": 20,
     "metadata": {},
     "output_type": "execute_result"
    }
   ],
   "source": [
    "df.source.value_counts()"
   ]
  },
  {
   "cell_type": "markdown",
   "id": "8ec32b82",
   "metadata": {},
   "source": [
    "#### Possibly sensitive"
   ]
  },
  {
   "cell_type": "code",
   "execution_count": 21,
   "id": "fe1c5cf1",
   "metadata": {},
   "outputs": [
    {
     "data": {
      "text/plain": [
       "False    6731228\n",
       "True       61084\n",
       "Name: possibly_sensitive, dtype: int64"
      ]
     },
     "execution_count": 21,
     "metadata": {},
     "output_type": "execute_result"
    }
   ],
   "source": [
    "df.possibly_sensitive.value_counts()"
   ]
  },
  {
   "cell_type": "code",
   "execution_count": 22,
   "id": "909a1cfd",
   "metadata": {},
   "outputs": [
    {
     "data": {
      "text/plain": [
       "([<matplotlib.patches.Wedge at 0x7fcddcde5280>,\n",
       "  <matplotlib.patches.Wedge at 0x7fcddcde5d90>],\n",
       " [Text(-1.0995610133141953, 0.031073750971842957, ''),\n",
       "  Text(1.099561015223444, -0.031073683412000556, '')],\n",
       " [Text(-0.5997605527168338, 0.016949318711914338, '99%'),\n",
       "  Text(0.5997605537582421, -0.01694928186109121, '1%')])"
      ]
     },
     "execution_count": 22,
     "metadata": {},
     "output_type": "execute_result"
    },
    {
     "data": {
      "image/png": "[encoded data removed]",
      "text/plain": [
       "<Figure size 432x288 with 1 Axes>"
      ]
     },
     "metadata": {},
     "output_type": "display_data"
    }
   ],
   "source": [
    "plt.pie(df.possibly_sensitive.value_counts(), autopct='%.0f%%')"
   ]
  },
  {
   "cell_type": "markdown",
   "id": "dedd626f",
   "metadata": {},
   "source": [
    "#### Geo Country Code"
   ]
  },
  {
   "cell_type": "code",
   "execution_count": 23,
   "id": "65d2e753",
   "metadata": {},
   "outputs": [
    {
     "data": {
      "text/plain": [
       "BR    4175801\n",
       "CO    1013740\n",
       "AR     541390\n",
       "VE     427260\n",
       "CL     323167\n",
       "Name: geo_country_code, dtype: int64"
      ]
     },
     "execution_count": 23,
     "metadata": {},
     "output_type": "execute_result"
    }
   ],
   "source": [
    "df.geo_country_code.value_counts().head()"
   ]
  },
  {
   "cell_type": "code",
   "execution_count": 24,
   "id": "f6a01fc1",
   "metadata": {},
   "outputs": [
    {
     "data": {
      "image/png": "[encoded data removed]",
      "text/plain": [
       "<Figure size 432x288 with 1 Axes>"
      ]
     },
     "metadata": {},
     "output_type": "display_data"
    }
   ],
   "source": [
    "df_cocode = pd.DataFrame(df.geo_country_code.value_counts())\\\n",
    "    .reset_index().rename(columns={'index':'geo_country_code', 'geo_country_code':'count'})\n",
    "df_cocode.loc[len(df.index)] = ['other', df_cocode.loc[df_cocode['count']<546745]['count'].sum()]\n",
    "sns.set_theme(style=\"whitegrid\")\n",
    "ax = sns.barplot(x=\"geo_country_code\", y=\"count\", data=df_cocode.sort_values('count', ascending=False).head())"
   ]
  },
  {
   "cell_type": "code",
   "execution_count": 25,
   "id": "968a8ac6",
   "metadata": {},
   "outputs": [
    {
     "data": {
      "text/plain": [
       "<AxesSubplot:>"
      ]
     },
     "execution_count": 25,
     "metadata": {},
     "output_type": "execute_result"
    },
    {
     "data": {
      "image/png": "[encoded data removed]",
      "text/plain": [
       "<Figure size 432x288 with 1 Axes>"
      ]
     },
     "metadata": {},
     "output_type": "display_data"
    }
   ],
   "source": [
    "df.geo_country_code.value_counts().plot.bar()"
   ]
  },
  {
   "cell_type": "code",
   "execution_count": 26,
   "id": "4d630733",
   "metadata": {},
   "outputs": [
    {
     "data": {
      "text/plain": [
       "Brésil                         2051695\n",
       "Brazil                         1511804\n",
       "Colombia                       1013740\n",
       "Brasile                         597979\n",
       "Venezuela                       427260\n",
       "Argentina                       386861\n",
       "Chile                           185721\n",
       "Ecuador                         173059\n",
       "Argentine                       154529\n",
       "Chili                           137446\n",
       "Peru                             55105\n",
       "Uruguay                          36142\n",
       "Brasilien                        14323\n",
       "Paraguay                         13601\n",
       "Bolivie                          13290\n",
       "Trinidad and Tobago              11693\n",
       "Bolivia                           7478\n",
       "Guyana                            4788\n",
       "Aruba                             4319\n",
       "Fransk Guyana                     2080\n",
       "Suriname                          1313\n",
       "Curaçao                            390\n",
       "Falkland Islands (Malvinas)        192\n",
       "French Guiana                       18\n",
       "Panama                              18\n",
       "Name: geo_country, dtype: int64"
      ]
     },
     "execution_count": 26,
     "metadata": {},
     "output_type": "execute_result"
    }
   ],
   "source": [
    "df.geo_country.value_counts()"
   ]
  },
  {
   "cell_type": "code",
   "execution_count": 27,
   "id": "60dffe19",
   "metadata": {},
   "outputs": [
    {
     "data": {
      "text/plain": [
       "Rio de Janeiro, Brésil      437618\n",
       "São Paulo, Brésil           400094\n",
       "Bogotá, D.C., Colombia      298762\n",
       "Medellín, Colombia           93390\n",
       "Córdoba, Argentina           92947\n",
       "                             ...  \n",
       "Carvoeira, Florianópolis         1\n",
       "Centrinho da Lagoa               1\n",
       "Caminhada na Raul Lopes          1\n",
       "Vitoria Eco Office               1\n",
       "Parque Croacia                   1\n",
       "Name: geo_full_name, Length: 27733, dtype: int64"
      ]
     },
     "execution_count": 27,
     "metadata": {},
     "output_type": "execute_result"
    }
   ],
   "source": [
    "df.geo_full_name.value_counts()"
   ]
  },
  {
   "cell_type": "code",
   "execution_count": 28,
   "id": "62659be7",
   "metadata": {},
   "outputs": [
    {
     "data": {
      "text/plain": [
       "{}    6804926\n",
       "Name: geo_geo_properties, dtype: int64"
      ]
     },
     "execution_count": 28,
     "metadata": {},
     "output_type": "execute_result"
    }
   ],
   "source": [
    "df.geo_geo_properties.value_counts()"
   ]
  },
  {
   "cell_type": "code",
   "execution_count": 29,
   "id": "e24ddfbc",
   "metadata": {},
   "outputs": [
    {
     "data": {
      "text/plain": [
       "False    6765395\n",
       "True       40017\n",
       "Name: author_verified, dtype: int64"
      ]
     },
     "execution_count": 29,
     "metadata": {},
     "output_type": "execute_result"
    }
   ],
   "source": [
    "df.author_verified.value_counts()"
   ]
  },
  {
   "cell_type": "code",
   "execution_count": 30,
   "id": "d80198df",
   "metadata": {},
   "outputs": [
    {
     "data": {
      "text/plain": [
       "False    6805412\n",
       "Name: author_protected, dtype: int64"
      ]
     },
     "execution_count": 30,
     "metadata": {},
     "output_type": "execute_result"
    }
   ],
   "source": [
    "df.author_protected.value_counts()"
   ]
  },
  {
   "cell_type": "code",
   "execution_count": 31,
   "id": "ab4e4ce5",
   "metadata": {},
   "outputs": [
    {
     "data": {
      "text/plain": [
       "False    6805412\n",
       "Name: author_protected, dtype: int64"
      ]
     },
     "execution_count": 31,
     "metadata": {},
     "output_type": "execute_result"
    }
   ],
   "source": [
    "df.author_protected.value_counts()"
   ]
  },
  {
   "cell_type": "markdown",
   "id": "cb570885",
   "metadata": {},
   "source": [
    "### NLP"
   ]
  },
  {
   "cell_type": "code",
   "execution_count": 32,
   "id": "fbb43f44",
   "metadata": {},
   "outputs": [],
   "source": [
    "df_nlp = df[['lang', 'id','text','geo_country_code','coordinates', 'lat', 'long','author_description','author_username','author_name', 'geo_country', 'geo_full_name']]\n"
   ]
  },
  {
   "cell_type": "markdown",
   "id": "bcf4ad95",
   "metadata": {},
   "source": [
    "### Length of text"
   ]
  },
  {
   "cell_type": "code",
   "execution_count": 33,
   "id": "1e2c327a",
   "metadata": {},
   "outputs": [
    {
     "name": "stderr",
     "output_type": "stream",
     "text": [
      "<ipython-input-33-ba089dfa894a>:1: SettingWithCopyWarning: \n",
      "A value is trying to be set on a copy of a slice from a DataFrame.\n",
      "Try using .loc[row_indexer,col_indexer] = value instead\n",
      "\n",
      "See the caveats in the documentation: https://pandas.pydata.org/pandas-docs/stable/user_guide/indexing.html#returning-a-view-versus-a-copy\n",
      "  df_nlp['length_text'] = df_nlp['text'].apply(lambda x: len(str(x)))\n"
     ]
    }
   ],
   "source": [
    "df_nlp['length_text'] = df_nlp['text'].apply(lambda x: len(str(x)))"
   ]
  },
  {
   "cell_type": "code",
   "execution_count": 34,
   "id": "d572263d",
   "metadata": {},
   "outputs": [
    {
     "data": {
      "text/plain": [
       "23     159251\n",
       "25     101545\n",
       "35      97285\n",
       "36      96258\n",
       "38      95370\n",
       "        ...  \n",
       "992         1\n",
       "984         1\n",
       "991         1\n",
       "993         1\n",
       "580         1\n",
       "Name: length_text, Length: 981, dtype: int64"
      ]
     },
     "execution_count": 34,
     "metadata": {},
     "output_type": "execute_result"
    }
   ],
   "source": [
    "df_nlp['length_text'].value_counts()"
   ]
  },
  {
   "cell_type": "code",
   "execution_count": 35,
   "id": "e388c66f",
   "metadata": {},
   "outputs": [
    {
     "data": {
      "text/plain": [
       "<AxesSubplot:ylabel='Frequency'>"
      ]
     },
     "execution_count": 35,
     "metadata": {},
     "output_type": "execute_result"
    },
    {
     "data": {
      "image/png": "[encoded data removed]",
      "text/plain": [
       "<Figure size 432x288 with 1 Axes>"
      ]
     },
     "metadata": {},
     "output_type": "display_data"
    }
   ],
   "source": [
    "df_nlp['length_text'].plot.hist()"
   ]
  },
  {
   "cell_type": "code",
   "execution_count": 36,
   "id": "f17ca08e",
   "metadata": {},
   "outputs": [
    {
     "name": "stdout",
     "output_type": "stream",
     "text": [
      "CPU times: user 3 µs, sys: 0 ns, total: 3 µs\n",
      "Wall time: 5.48 µs\n"
     ]
    }
   ],
   "source": [
    "%%time\n",
    "# df_nlp['tokenized_text'] = df_nlp.text.apply(lambda x : word_tokenize(str(x)))"
   ]
  },
  {
   "cell_type": "code",
   "execution_count": 49,
   "id": "c1492900",
   "metadata": {},
   "outputs": [],
   "source": [
    "from nltk.tokenize import TweetTokenizer\n",
    "\n",
    "def toto(x):\n",
    "    tweet_tokenizer = TweetTokenizer()\n",
    "    return tweet_tokenizer.tokenize(str(x))"
   ]
  },
  {
   "cell_type": "code",
   "execution_count": 50,
   "id": "d6d15bfe",
   "metadata": {},
   "outputs": [
    {
     "name": "stdout",
     "output_type": "stream",
     "text": [
      "CPU times: user 39.3 s, sys: 5.93 s, total: 45.3 s\n",
      "Wall time: 53.8 s\n"
     ]
    },
    {
     "name": "stderr",
     "output_type": "stream",
     "text": [
      "<timed exec>:2: SettingWithCopyWarning: \n",
      "A value is trying to be set on a copy of a slice from a DataFrame.\n",
      "Try using .loc[row_indexer,col_indexer] = value instead\n",
      "\n",
      "See the caveats in the documentation: https://pandas.pydata.org/pandas-docs/stable/user_guide/indexing.html#returning-a-view-versus-a-copy\n"
     ]
    }
   ],
   "source": [
    "%%time\n",
    "p = mp.Pool(mp.cpu_count()-2) # Data parallelism Object\n",
    "df_nlp['tokenized_text'] = p.map(toto, df_nlp['text']) \n"
   ]
  },
  {
   "cell_type": "code",
   "execution_count": 51,
   "id": "3e371139",
   "metadata": {},
   "outputs": [
    {
     "data": {
      "text/plain": [
       "'Lo más sexi que verás este día bebé 😉 #ghigoflow #papirey #soymetedor en Ciudad Trinidad , El Beni , Bolivia https://t.co/BqdNZofb8n'"
      ]
     },
     "execution_count": 51,
     "metadata": {},
     "output_type": "execute_result"
    }
   ],
   "source": [
    "' '.join(df_nlp['tokenized_text'].iloc[2])"
   ]
  },
  {
   "cell_type": "markdown",
   "id": "f4cc89d8",
   "metadata": {},
   "source": [
    "At the end, tokenizing and counting tokens is useless if we use character level to do our prediction. "
   ]
  },
  {
   "cell_type": "code",
   "execution_count": null,
   "id": "ba688439",
   "metadata": {},
   "outputs": [],
   "source": []
  },
  {
   "cell_type": "code",
   "execution_count": null,
   "id": "eb35c6b9",
   "metadata": {},
   "outputs": [],
   "source": []
  },
  {
   "cell_type": "code",
   "execution_count": null,
   "id": "3752b8a1",
   "metadata": {},
   "outputs": [],
   "source": []
  },
  {
   "cell_type": "code",
   "execution_count": null,
   "id": "46e1fd90",
   "metadata": {},
   "outputs": [],
   "source": []
  },
  {
   "cell_type": "code",
   "execution_count": null,
   "id": "2a08f96c",
   "metadata": {},
   "outputs": [],
   "source": []
  },
  {
   "cell_type": "code",
   "execution_count": null,
   "id": "5bcaa5a4",
   "metadata": {},
   "outputs": [],
   "source": []
  },
  {
   "cell_type": "code",
   "execution_count": null,
   "id": "eef2735c",
   "metadata": {},
   "outputs": [],
   "source": []
  },
  {
   "cell_type": "markdown",
   "id": "e234b62b",
   "metadata": {},
   "source": [
    "## Test and draft"
   ]
  },
  {
   "cell_type": "code",
   "execution_count": 39,
   "id": "3cd8cea7",
   "metadata": {},
   "outputs": [],
   "source": [
    "# tokens = set()\n",
    "# for x in df_nlp['tokenized_text']:\n",
    "#     tokens = tokens.union(set(x))\n",
    "# print(len(tokens))"
   ]
  },
  {
   "cell_type": "code",
   "execution_count": 71,
   "id": "0204807b",
   "metadata": {},
   "outputs": [],
   "source": [
    "def union_tok(list_of_lists):\n",
    "    tokens = set().union(*list_of_lists)\n",
    "#     for x in list_of_set:\n",
    "#         tokens = tokens.union(set(x))\n",
    "# #         print(set(x).union(tokens))\n",
    "    return tokens\n",
    "        "
   ]
  },
  {
   "cell_type": "code",
   "execution_count": 67,
   "id": "68248031",
   "metadata": {},
   "outputs": [
    {
     "data": {
      "text/plain": [
       "{'#',\n",
       " '&',\n",
       " \"''\",\n",
       " '(',\n",
       " ')',\n",
       " ',',\n",
       " '-',\n",
       " '.',\n",
       " '//t.co/18HhXGxB6S',\n",
       " '//t.co/6VoA1IIapP',\n",
       " '//t.co/B3dbD7WgjK',\n",
       " '//t.co/BqdNZofb8n',\n",
       " '//t.co/CLDsduAnrq',\n",
       " '//t.co/DRE79J58qF',\n",
       " '//t.co/S9flo1veqk',\n",
       " '//t.co/haB2tFbNV8',\n",
       " '//t.co/l9W3ki5CUW',\n",
       " '//t.co/vPu2hVlHQm',\n",
       " '29',\n",
       " '38°',\n",
       " ':',\n",
       " '?',\n",
       " '@',\n",
       " 'Acaba',\n",
       " 'Ballivián',\n",
       " 'Beni',\n",
       " 'Bolivia',\n",
       " 'Calle',\n",
       " 'Ciudad',\n",
       " 'Combatiendo',\n",
       " 'Creemos',\n",
       " 'Current',\n",
       " 'Deportes',\n",
       " 'El',\n",
       " 'Escuela',\n",
       " 'Hoy',\n",
       " 'Inauguración',\n",
       " 'Just',\n",
       " 'Keep',\n",
       " 'Lo',\n",
       " 'Mamore',\n",
       " 'Mate',\n",
       " 'Naval',\n",
       " 'Partly',\n",
       " 'Puerto',\n",
       " 'Sucre',\n",
       " 'Sul',\n",
       " 'Trinidad',\n",
       " 'Vallejos',\n",
       " '``',\n",
       " 'a',\n",
       " 'adorno',\n",
       " 'bebé',\n",
       " 'beni',\n",
       " 'bolivia',\n",
       " 'celsius',\n",
       " 'cloudy',\n",
       " 'cuentosdeevaluna🌙🍃',\n",
       " 'cura',\n",
       " 'de',\n",
       " 'debut',\n",
       " 'degrees',\n",
       " 'do',\n",
       " 'día',\n",
       " 'ecuelas',\n",
       " 'el',\n",
       " 'en',\n",
       " 'este',\n",
       " 'first',\n",
       " 'foto',\n",
       " 'frío',\n",
       " 'fútbol',\n",
       " 'gaúcho',\n",
       " 'ghigoflow',\n",
       " 'goodmemories❤️',\n",
       " 'gt',\n",
       " 'hace',\n",
       " 'https',\n",
       " 'in',\n",
       " 'isabelallende',\n",
       " 'jovenes',\n",
       " 'los',\n",
       " 'más',\n",
       " 'no',\n",
       " 'o',\n",
       " 'of',\n",
       " 'papirey',\n",
       " 'photo',\n",
       " 'posted',\n",
       " 'publicar',\n",
       " 'que',\n",
       " 'sexi',\n",
       " 'soymetedor',\n",
       " 'su',\n",
       " 'surgeries',\n",
       " 'sólo',\n",
       " 'temperature',\n",
       " 'the',\n",
       " 'track',\n",
       " 'trinidadbeni',\n",
       " 'trinidadbenibolivia',\n",
       " 'una',\n",
       " 'undiscretomilagro',\n",
       " 'verás',\n",
       " 'weather',\n",
       " 'with',\n",
       " '¿Se',\n",
       " '🌡️',\n",
       " '🐱🏨',\n",
       " '🔥🔥🔥🔥🔥🔥🔥🔥🔥🔥',\n",
       " '😉',\n",
       " '🧉'}"
      ]
     },
     "execution_count": 67,
     "metadata": {},
     "output_type": "execute_result"
    }
   ],
   "source": [
    "set().union(*df_nlp['tokenized_text'].iloc[:10])"
   ]
  },
  {
   "cell_type": "code",
   "execution_count": 74,
   "id": "85adbb2e",
   "metadata": {},
   "outputs": [
    {
     "data": {
      "text/plain": [
       "{'#',\n",
       " '&',\n",
       " \"''\",\n",
       " '(',\n",
       " ')',\n",
       " ',',\n",
       " '-',\n",
       " '.',\n",
       " '//t.co/18HhXGxB6S',\n",
       " '//t.co/6VoA1IIapP',\n",
       " '//t.co/B3dbD7WgjK',\n",
       " '//t.co/BqdNZofb8n',\n",
       " '//t.co/CLDsduAnrq',\n",
       " '//t.co/DRE79J58qF',\n",
       " '//t.co/S9flo1veqk',\n",
       " '//t.co/haB2tFbNV8',\n",
       " '//t.co/l9W3ki5CUW',\n",
       " '//t.co/vPu2hVlHQm',\n",
       " '29',\n",
       " '38°',\n",
       " ':',\n",
       " '?',\n",
       " '@',\n",
       " 'Acaba',\n",
       " 'Ballivián',\n",
       " 'Beni',\n",
       " 'Bolivia',\n",
       " 'Calle',\n",
       " 'Ciudad',\n",
       " 'Combatiendo',\n",
       " 'Creemos',\n",
       " 'Current',\n",
       " 'Deportes',\n",
       " 'El',\n",
       " 'Escuela',\n",
       " 'Hoy',\n",
       " 'Inauguración',\n",
       " 'Just',\n",
       " 'Keep',\n",
       " 'Lo',\n",
       " 'Mamore',\n",
       " 'Mate',\n",
       " 'Naval',\n",
       " 'Partly',\n",
       " 'Puerto',\n",
       " 'Sucre',\n",
       " 'Sul',\n",
       " 'Trinidad',\n",
       " 'Vallejos',\n",
       " '``',\n",
       " 'a',\n",
       " 'adorno',\n",
       " 'bebé',\n",
       " 'beni',\n",
       " 'bolivia',\n",
       " 'celsius',\n",
       " 'cloudy',\n",
       " 'cuentosdeevaluna🌙🍃',\n",
       " 'cura',\n",
       " 'de',\n",
       " 'debut',\n",
       " 'degrees',\n",
       " 'do',\n",
       " 'día',\n",
       " 'ecuelas',\n",
       " 'el',\n",
       " 'en',\n",
       " 'este',\n",
       " 'first',\n",
       " 'foto',\n",
       " 'frío',\n",
       " 'fútbol',\n",
       " 'gaúcho',\n",
       " 'ghigoflow',\n",
       " 'goodmemories❤️',\n",
       " 'gt',\n",
       " 'hace',\n",
       " 'https',\n",
       " 'in',\n",
       " 'isabelallende',\n",
       " 'jovenes',\n",
       " 'los',\n",
       " 'más',\n",
       " 'no',\n",
       " 'o',\n",
       " 'of',\n",
       " 'papirey',\n",
       " 'photo',\n",
       " 'posted',\n",
       " 'publicar',\n",
       " 'que',\n",
       " 'sexi',\n",
       " 'soymetedor',\n",
       " 'su',\n",
       " 'surgeries',\n",
       " 'sólo',\n",
       " 'temperature',\n",
       " 'the',\n",
       " 'track',\n",
       " 'trinidadbeni',\n",
       " 'trinidadbenibolivia',\n",
       " 'una',\n",
       " 'undiscretomilagro',\n",
       " 'verás',\n",
       " 'weather',\n",
       " 'with',\n",
       " '¿Se',\n",
       " '🌡️',\n",
       " '🐱🏨',\n",
       " '🔥🔥🔥🔥🔥🔥🔥🔥🔥🔥',\n",
       " '😉',\n",
       " '🧉'}"
      ]
     },
     "execution_count": 74,
     "metadata": {},
     "output_type": "execute_result"
    }
   ],
   "source": [
    "union_tok(df_nlp['tokenized_text'].iloc[:10])"
   ]
  },
  {
   "cell_type": "code",
   "execution_count": 81,
   "id": "be8e7746",
   "metadata": {},
   "outputs": [
    {
     "data": {
      "text/plain": [
       "{'#',\n",
       " '&',\n",
       " \"''\",\n",
       " '(',\n",
       " ')',\n",
       " ',',\n",
       " '-',\n",
       " '.',\n",
       " '//t.co/18HhXGxB6S',\n",
       " '//t.co/6VoA1IIapP',\n",
       " '//t.co/B3dbD7WgjK',\n",
       " '//t.co/BqdNZofb8n',\n",
       " '//t.co/CLDsduAnrq',\n",
       " '//t.co/DRE79J58qF',\n",
       " '//t.co/S9flo1veqk',\n",
       " '//t.co/haB2tFbNV8',\n",
       " '//t.co/l9W3ki5CUW',\n",
       " '//t.co/vPu2hVlHQm',\n",
       " '29',\n",
       " '38°',\n",
       " ':',\n",
       " '?',\n",
       " '@',\n",
       " 'Acaba',\n",
       " 'Ballivián',\n",
       " 'Beni',\n",
       " 'Bolivia',\n",
       " 'Calle',\n",
       " 'Ciudad',\n",
       " 'Combatiendo',\n",
       " 'Creemos',\n",
       " 'Current',\n",
       " 'Deportes',\n",
       " 'El',\n",
       " 'Escuela',\n",
       " 'Hoy',\n",
       " 'Inauguración',\n",
       " 'Just',\n",
       " 'Keep',\n",
       " 'Lo',\n",
       " 'Mamore',\n",
       " 'Mate',\n",
       " 'Naval',\n",
       " 'Partly',\n",
       " 'Puerto',\n",
       " 'Sucre',\n",
       " 'Sul',\n",
       " 'Trinidad',\n",
       " 'Vallejos',\n",
       " '``',\n",
       " 'a',\n",
       " 'adorno',\n",
       " 'bebé',\n",
       " 'beni',\n",
       " 'bolivia',\n",
       " 'celsius',\n",
       " 'cloudy',\n",
       " 'cuentosdeevaluna🌙🍃',\n",
       " 'cura',\n",
       " 'de',\n",
       " 'debut',\n",
       " 'degrees',\n",
       " 'do',\n",
       " 'día',\n",
       " 'ecuelas',\n",
       " 'el',\n",
       " 'en',\n",
       " 'este',\n",
       " 'first',\n",
       " 'foto',\n",
       " 'frío',\n",
       " 'fútbol',\n",
       " 'gaúcho',\n",
       " 'ghigoflow',\n",
       " 'goodmemories❤️',\n",
       " 'gt',\n",
       " 'hace',\n",
       " 'https',\n",
       " 'in',\n",
       " 'isabelallende',\n",
       " 'jovenes',\n",
       " 'los',\n",
       " 'más',\n",
       " 'no',\n",
       " 'o',\n",
       " 'of',\n",
       " 'papirey',\n",
       " 'photo',\n",
       " 'posted',\n",
       " 'publicar',\n",
       " 'que',\n",
       " 'sexi',\n",
       " 'soymetedor',\n",
       " 'su',\n",
       " 'surgeries',\n",
       " 'sólo',\n",
       " 'temperature',\n",
       " 'the',\n",
       " 'track',\n",
       " 'trinidadbeni',\n",
       " 'trinidadbenibolivia',\n",
       " 'una',\n",
       " 'undiscretomilagro',\n",
       " 'verás',\n",
       " 'weather',\n",
       " 'with',\n",
       " '¿Se',\n",
       " '🌡️',\n",
       " '🐱🏨',\n",
       " '🔥🔥🔥🔥🔥🔥🔥🔥🔥🔥',\n",
       " '😉',\n",
       " '🧉'}"
      ]
     },
     "execution_count": 81,
     "metadata": {},
     "output_type": "execute_result"
    }
   ],
   "source": [
    "set.union(*[set(x) for x in df_nlp['tokenized_text'].iloc[:10]])"
   ]
  },
  {
   "cell_type": "code",
   "execution_count": 83,
   "id": "c1c58412",
   "metadata": {},
   "outputs": [
    {
     "name": "stdout",
     "output_type": "stream",
     "text": [
      "CPU times: user 1min 12s, sys: 15.7 s, total: 1min 28s\n",
      "Wall time: 1min 29s\n"
     ]
    }
   ],
   "source": [
    "%%time\n",
    "pool = mp.Pool(processes=int(os.cpu_count()/2))\n",
    "tokens = pool.map(union_tok, [set(x) for x in df_nlp['tokenized_text']]) # Returns a list of lists"
   ]
  },
  {
   "cell_type": "code",
   "execution_count": 88,
   "id": "26ad1639",
   "metadata": {},
   "outputs": [
    {
     "ename": "TypeError",
     "evalue": "unhashable type: 'set'",
     "output_type": "error",
     "traceback": [
      "\u001b[0;31m---------------------------------------------------------------------------\u001b[0m",
      "\u001b[0;31mTypeError\u001b[0m                                 Traceback (most recent call last)",
      "\u001b[0;32m<ipython-input-88-4a80eae1a371>\u001b[0m in \u001b[0;36m<module>\u001b[0;34m\u001b[0m\n\u001b[0;32m----> 1\u001b[0;31m \u001b[0mlen\u001b[0m\u001b[0;34m(\u001b[0m\u001b[0mset\u001b[0m\u001b[0;34m(\u001b[0m\u001b[0;34m)\u001b[0m\u001b[0;34m.\u001b[0m\u001b[0munion\u001b[0m\u001b[0;34m(\u001b[0m\u001b[0mtokens\u001b[0m\u001b[0;34m)\u001b[0m\u001b[0;34m)\u001b[0m\u001b[0;34m\u001b[0m\u001b[0;34m\u001b[0m\u001b[0m\n\u001b[0m",
      "\u001b[0;31mTypeError\u001b[0m: unhashable type: 'set'"
     ]
    }
   ],
   "source": [
    "len(set().union(tokens))"
   ]
  },
  {
   "cell_type": "code",
   "execution_count": null,
   "id": "dea06dca",
   "metadata": {},
   "outputs": [],
   "source": []
  },
  {
   "cell_type": "code",
   "execution_count": null,
   "id": "ebbb3059",
   "metadata": {},
   "outputs": [],
   "source": []
  },
  {
   "cell_type": "code",
   "execution_count": null,
   "id": "1b35c425",
   "metadata": {},
   "outputs": [],
   "source": []
  },
  {
   "cell_type": "code",
   "execution_count": null,
   "id": "554f8ecb",
   "metadata": {},
   "outputs": [],
   "source": []
  },
  {
   "cell_type": "code",
   "execution_count": null,
   "id": "8a724a50",
   "metadata": {},
   "outputs": [],
   "source": [
    "for x, y in df_nlp.iloc[100:110].iterrows():\n",
    "    print(x, y.text)\n",
    "    print(word_tokenize(y.text))\n",
    "    print('\\n')"
   ]
  },
  {
   "cell_type": "code",
   "execution_count": null,
   "id": "96af9538",
   "metadata": {},
   "outputs": [],
   "source": []
  },
  {
   "cell_type": "code",
   "execution_count": null,
   "id": "08509a20",
   "metadata": {},
   "outputs": [],
   "source": []
  },
  {
   "cell_type": "code",
   "execution_count": null,
   "id": "157a52ec",
   "metadata": {},
   "outputs": [],
   "source": []
  },
  {
   "cell_type": "code",
   "execution_count": null,
   "id": "c03958df",
   "metadata": {},
   "outputs": [],
   "source": []
  },
  {
   "cell_type": "code",
   "execution_count": null,
   "id": "f690e7fd",
   "metadata": {},
   "outputs": [],
   "source": [
    "%%time\n",
    "df_nlp.text = df_nlp.text.apply(lambda x : TP.preprocess(str(x))) "
   ]
  },
  {
   "cell_type": "code",
   "execution_count": null,
   "id": "78103b35",
   "metadata": {},
   "outputs": [],
   "source": [
    "for x, y in df_nlp.iloc[100:110].iterrows():\n",
    "    print(x, y.text)\n",
    "    print(x, TP.remove_URL(y.text))\n",
    "    print('--')\n",
    "    print(word_tokenize(y.text)[-4:])\n",
    "    print(y.geo_full_name)\n",
    "    print(y.author_name, y.author_username)\n",
    "    print('\\n')\n"
   ]
  },
  {
   "cell_type": "code",
   "execution_count": null,
   "id": "810feb09",
   "metadata": {},
   "outputs": [],
   "source": [
    "word_tokenize(df_nlp.text.iloc[0])"
   ]
  },
  {
   "cell_type": "code",
   "execution_count": null,
   "id": "81edbc29",
   "metadata": {},
   "outputs": [],
   "source": [
    "df_nlp['']"
   ]
  }
 ],
 "metadata": {
  "kernelspec": {
   "display_name": "Python 3",
   "language": "python",
   "name": "python3"
  },
  "language_info": {
   "codemirror_mode": {
    "name": "ipython",
    "version": 3
   },
   "file_extension": ".py",
   "mimetype": "text/x-python",
   "name": "python",
   "nbconvert_exporter": "python",
   "pygments_lexer": "ipython3",
   "version": "3.8.8"
  }
 },
 "nbformat": 4,
 "nbformat_minor": 5
}
