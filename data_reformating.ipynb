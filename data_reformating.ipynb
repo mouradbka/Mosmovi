{
 "cells": [
  {
   "cell_type": "code",
   "execution_count": 2,
   "id": "e24a86ea",
   "metadata": {},
   "outputs": [],
   "source": [
    "import pandas as pd\n",
    "import os"
   ]
  },
  {
   "cell_type": "code",
   "execution_count": 3,
   "id": "bb68f805",
   "metadata": {},
   "outputs": [],
   "source": [
    "def format_text(path):\n",
    "    file_names = os.listdir('../data/Copy of dev_south_america_merged/')\n",
    "\n",
    "    frames = []\n",
    "    for n in file_names:\n",
    "        coordinates = [float(x) for x in n[:-4].split('_')]\n",
    "        df = pd.read_csv('../data/Copy of dev_south_america_merged/' + n, sep=';')\n",
    "        df['coordinates'] = [coordinates] * len(df)\n",
    "        frames.append(df)\n",
    "    df_total = pd.concat(frames)\n",
    "    return df_total"
   ]
  },
  {
   "cell_type": "code",
   "execution_count": 4,
   "id": "07ae52c6",
   "metadata": {},
   "outputs": [],
   "source": [
    "file_names = os.listdir('../data/Copy of dev_south_america_merged/')"
   ]
  },
  {
   "cell_type": "code",
   "execution_count": 6,
   "id": "e35be65f",
   "metadata": {},
   "outputs": [],
   "source": [
    "# for n in file_names:\n",
    "#     print(n[:-4].split('_'))"
   ]
  },
  {
   "cell_type": "code",
   "execution_count": 28,
   "id": "835f0f1c",
   "metadata": {},
   "outputs": [
    {
     "name": "stdout",
     "output_type": "stream",
     "text": [
      "3140\n",
      "CPU times: user 1min 19s, sys: 2.5 s, total: 1min 22s\n",
      "Wall time: 1min 22s\n"
     ]
    }
   ],
   "source": [
    "%%time\n",
    "frames = []\n",
    "for n in file_names:\n",
    "    coor = [float(x) for x in n[:-4].split('_')]\n",
    "    df = pd.read_csv('../data/Copy of dev_south_america_merged/' + n, sep=';')\n",
    "    df['coordinates'] = [coor] * len(df)\n",
    "    frames.append(df)\n",
    "print(len(frames))"
   ]
  },
  {
   "cell_type": "code",
   "execution_count": 7,
   "id": "c56cf279",
   "metadata": {},
   "outputs": [
    {
     "data": {
      "text/plain": [
       "['Argentina',\n",
       " 'Argentine',\n",
       " 'Aruba',\n",
       " 'Bolivia',\n",
       " 'Bolivie',\n",
       " 'Brasile',\n",
       " 'Brasilien',\n",
       " 'Brazil',\n",
       " 'Brésil',\n",
       " 'Chile',\n",
       " 'Chili',\n",
       " 'Colombia',\n",
       " 'Curaçao',\n",
       " 'Ecuador',\n",
       " 'Falkland Islands (Malvinas)',\n",
       " 'Fransk Guyana',\n",
       " 'French Guiana',\n",
       " 'Guyana',\n",
       " 'Panama',\n",
       " 'Paraguay',\n",
       " 'Peru',\n",
       " 'Suriname',\n",
       " 'Trinidad and Tobago',\n",
       " 'Uruguay',\n",
       " 'Venezuela']"
      ]
     },
     "execution_count": 7,
     "metadata": {},
     "output_type": "execute_result"
    }
   ],
   "source": [
    "sorted(['Colombia', 'Brésil', 'Brazil', 'Venezuela', 'Brasile', 'Ecuador',\n",
    "       'Argentina', 'Chile', 'Argentine', 'Chili', 'Peru', 'Brasilien',\n",
    "       'Uruguay', 'Trinidad and Tobago', 'Paraguay', 'Bolivie', 'Bolivia',\n",
    "       'Guyana', 'Aruba', 'Suriname', 'Fransk Guyana', 'Curaçao',\n",
    "       'Falkland Islands (Malvinas)', 'Panama', 'French Guiana'])"
   ]
  },
  {
   "cell_type": "code",
   "execution_count": 9,
   "id": "80735730",
   "metadata": {},
   "outputs": [],
   "source": [
    "def rename_coutries(x):\n",
    "    if x in ['Argentina','Argentine']:\n",
    "        return 'Argentina'\n",
    "    elif x in ['Brasile','Brasilien','Brazil','Brésil']:\n",
    "        return 'Brazil'\n",
    "    elif x in ['Chile','Chili']:\n",
    "        return 'Chile'\n",
    "    elif x in ['Fransk Guyana','French Guiana']:\n",
    "        return 'French Guiana'\n",
    "    else:\n",
    "        return x"
   ]
  },
  {
   "cell_type": "code",
   "execution_count": null,
   "id": "9d8ec75a",
   "metadata": {},
   "outputs": [],
   "source": []
  },
  {
   "cell_type": "code",
   "execution_count": null,
   "id": "c3506fd0",
   "metadata": {},
   "outputs": [],
   "source": []
  },
  {
   "cell_type": "code",
   "execution_count": null,
   "id": "dae4e45b",
   "metadata": {},
   "outputs": [],
   "source": []
  },
  {
   "cell_type": "code",
   "execution_count": null,
   "id": "07797c97",
   "metadata": {},
   "outputs": [],
   "source": []
  },
  {
   "cell_type": "code",
   "execution_count": 29,
   "id": "969a6ee7",
   "metadata": {},
   "outputs": [
    {
     "name": "stdout",
     "output_type": "stream",
     "text": [
      "CPU times: user 9.03 s, sys: 716 ms, total: 9.74 s\n",
      "Wall time: 9.74 s\n"
     ]
    }
   ],
   "source": [
    "%%time\n",
    "df_total = pd.concat(frames)"
   ]
  },
  {
   "cell_type": "code",
   "execution_count": 30,
   "id": "f8ae73de",
   "metadata": {},
   "outputs": [
    {
     "data": {
      "text/html": [
       "<div>\n",
       "<style scoped>\n",
       "    .dataframe tbody tr th:only-of-type {\n",
       "        vertical-align: middle;\n",
       "    }\n",
       "\n",
       "    .dataframe tbody tr th {\n",
       "        vertical-align: top;\n",
       "    }\n",
       "\n",
       "    .dataframe thead th {\n",
       "        text-align: right;\n",
       "    }\n",
       "</style>\n",
       "<table border=\"1\" class=\"dataframe\">\n",
       "  <thead>\n",
       "    <tr style=\"text-align: right;\">\n",
       "      <th></th>\n",
       "      <th>lang</th>\n",
       "      <th>id</th>\n",
       "      <th>created_at</th>\n",
       "      <th>text</th>\n",
       "      <th>conversation_id</th>\n",
       "      <th>in_reply_to_user_id</th>\n",
       "      <th>reply_settings</th>\n",
       "      <th>source</th>\n",
       "      <th>possibly_sensitive</th>\n",
       "      <th>geo_place_id</th>\n",
       "      <th>...</th>\n",
       "      <th>author_description</th>\n",
       "      <th>retweet_count</th>\n",
       "      <th>reply_count</th>\n",
       "      <th>like_count</th>\n",
       "      <th>quote_count</th>\n",
       "      <th>followers_count</th>\n",
       "      <th>following_count</th>\n",
       "      <th>tweet_count</th>\n",
       "      <th>listed_count</th>\n",
       "      <th>coordinates</th>\n",
       "    </tr>\n",
       "  </thead>\n",
       "  <tbody>\n",
       "    <tr>\n",
       "      <th>0</th>\n",
       "      <td>es</td>\n",
       "      <td>1431400373726715907</td>\n",
       "      <td>2021-08-27T23:36:57.000Z</td>\n",
       "      <td>Just posted a photo @ Ciudad Trinidad, El Beni...</td>\n",
       "      <td>1.431400e+18</td>\n",
       "      <td>NaN</td>\n",
       "      <td>everyone</td>\n",
       "      <td>Instagram</td>\n",
       "      <td>False</td>\n",
       "      <td>c4320f726d222937</td>\n",
       "      <td>...</td>\n",
       "      <td>Actor/Director.  Just living the best I can</td>\n",
       "      <td>0.0</td>\n",
       "      <td>0.0</td>\n",
       "      <td>0.0</td>\n",
       "      <td>0.0</td>\n",
       "      <td>238</td>\n",
       "      <td>527</td>\n",
       "      <td>8515</td>\n",
       "      <td>8</td>\n",
       "      <td>[-14.66968932985889, -64.51162291776335]</td>\n",
       "    </tr>\n",
       "    <tr>\n",
       "      <th>1</th>\n",
       "      <td>es</td>\n",
       "      <td>1430908945296617489</td>\n",
       "      <td>2021-08-26T15:04:12.000Z</td>\n",
       "      <td>Combatiendo el frío 🧉 en Ciudad Trinidad, El B...</td>\n",
       "      <td>1.430909e+18</td>\n",
       "      <td>NaN</td>\n",
       "      <td>everyone</td>\n",
       "      <td>Instagram</td>\n",
       "      <td>False</td>\n",
       "      <td>c4320f726d222937</td>\n",
       "      <td>...</td>\n",
       "      <td>Xeneize, rocker y geek de tiempo completo. Com...</td>\n",
       "      <td>0.0</td>\n",
       "      <td>0.0</td>\n",
       "      <td>0.0</td>\n",
       "      <td>0.0</td>\n",
       "      <td>335</td>\n",
       "      <td>866</td>\n",
       "      <td>30678</td>\n",
       "      <td>17</td>\n",
       "      <td>[-14.66968932985889, -64.51162291776335]</td>\n",
       "    </tr>\n",
       "    <tr>\n",
       "      <th>2</th>\n",
       "      <td>es</td>\n",
       "      <td>1430236496984936459</td>\n",
       "      <td>2021-08-24T18:32:08.000Z</td>\n",
       "      <td>Lo más sexi que verás este día bebé 😉 #ghigofl...</td>\n",
       "      <td>1.430236e+18</td>\n",
       "      <td>NaN</td>\n",
       "      <td>everyone</td>\n",
       "      <td>Instagram</td>\n",
       "      <td>False</td>\n",
       "      <td>c4320f726d222937</td>\n",
       "      <td>...</td>\n",
       "      <td>rapper and manager del grupo  flow</td>\n",
       "      <td>0.0</td>\n",
       "      <td>0.0</td>\n",
       "      <td>0.0</td>\n",
       "      <td>0.0</td>\n",
       "      <td>595</td>\n",
       "      <td>85</td>\n",
       "      <td>440</td>\n",
       "      <td>1</td>\n",
       "      <td>[-14.66968932985889, -64.51162291776335]</td>\n",
       "    </tr>\n",
       "    <tr>\n",
       "      <th>3</th>\n",
       "      <td>es</td>\n",
       "      <td>1428792248385384448</td>\n",
       "      <td>2021-08-20T18:53:12.000Z</td>\n",
       "      <td>🔥🔥🔥🔥🔥🔥🔥🔥🔥🔥 Hoy hace su debut 38° 🌡️ en Ciudad ...</td>\n",
       "      <td>1.428792e+18</td>\n",
       "      <td>NaN</td>\n",
       "      <td>everyone</td>\n",
       "      <td>Instagram</td>\n",
       "      <td>False</td>\n",
       "      <td>c4320f726d222937</td>\n",
       "      <td>...</td>\n",
       "      <td>Xeneize, rocker y geek de tiempo completo. Com...</td>\n",
       "      <td>0.0</td>\n",
       "      <td>0.0</td>\n",
       "      <td>0.0</td>\n",
       "      <td>0.0</td>\n",
       "      <td>335</td>\n",
       "      <td>866</td>\n",
       "      <td>30678</td>\n",
       "      <td>17</td>\n",
       "      <td>[-14.66968932985889, -64.51162291776335]</td>\n",
       "    </tr>\n",
       "    <tr>\n",
       "      <th>4</th>\n",
       "      <td>es</td>\n",
       "      <td>1428466559765286916</td>\n",
       "      <td>2021-08-19T21:19:02.000Z</td>\n",
       "      <td>#Creemos en los #jovenes  Inauguración: Escuel...</td>\n",
       "      <td>1.428467e+18</td>\n",
       "      <td>NaN</td>\n",
       "      <td>everyone</td>\n",
       "      <td>Instagram</td>\n",
       "      <td>False</td>\n",
       "      <td>c4320f726d222937</td>\n",
       "      <td>...</td>\n",
       "      <td>Estudio de diseño arquitectónico Diseño de viv...</td>\n",
       "      <td>0.0</td>\n",
       "      <td>0.0</td>\n",
       "      <td>0.0</td>\n",
       "      <td>0.0</td>\n",
       "      <td>12</td>\n",
       "      <td>0</td>\n",
       "      <td>47</td>\n",
       "      <td>0</td>\n",
       "      <td>[-14.66968932985889, -64.51162291776335]</td>\n",
       "    </tr>\n",
       "  </tbody>\n",
       "</table>\n",
       "<p>5 rows × 35 columns</p>\n",
       "</div>"
      ],
      "text/plain": [
       "  lang                   id                created_at  \\\n",
       "0   es  1431400373726715907  2021-08-27T23:36:57.000Z   \n",
       "1   es  1430908945296617489  2021-08-26T15:04:12.000Z   \n",
       "2   es  1430236496984936459  2021-08-24T18:32:08.000Z   \n",
       "3   es  1428792248385384448  2021-08-20T18:53:12.000Z   \n",
       "4   es  1428466559765286916  2021-08-19T21:19:02.000Z   \n",
       "\n",
       "                                                text  conversation_id  \\\n",
       "0  Just posted a photo @ Ciudad Trinidad, El Beni...     1.431400e+18   \n",
       "1  Combatiendo el frío 🧉 en Ciudad Trinidad, El B...     1.430909e+18   \n",
       "2  Lo más sexi que verás este día bebé 😉 #ghigofl...     1.430236e+18   \n",
       "3  🔥🔥🔥🔥🔥🔥🔥🔥🔥🔥 Hoy hace su debut 38° 🌡️ en Ciudad ...     1.428792e+18   \n",
       "4  #Creemos en los #jovenes  Inauguración: Escuel...     1.428467e+18   \n",
       "\n",
       "   in_reply_to_user_id reply_settings     source possibly_sensitive  \\\n",
       "0                  NaN       everyone  Instagram              False   \n",
       "1                  NaN       everyone  Instagram              False   \n",
       "2                  NaN       everyone  Instagram              False   \n",
       "3                  NaN       everyone  Instagram              False   \n",
       "4                  NaN       everyone  Instagram              False   \n",
       "\n",
       "       geo_place_id  ...                                 author_description  \\\n",
       "0  c4320f726d222937  ...        Actor/Director.  Just living the best I can   \n",
       "1  c4320f726d222937  ...  Xeneize, rocker y geek de tiempo completo. Com...   \n",
       "2  c4320f726d222937  ...                 rapper and manager del grupo  flow   \n",
       "3  c4320f726d222937  ...  Xeneize, rocker y geek de tiempo completo. Com...   \n",
       "4  c4320f726d222937  ...  Estudio de diseño arquitectónico Diseño de viv...   \n",
       "\n",
       "  retweet_count reply_count like_count  quote_count followers_count  \\\n",
       "0           0.0         0.0        0.0          0.0             238   \n",
       "1           0.0         0.0        0.0          0.0             335   \n",
       "2           0.0         0.0        0.0          0.0             595   \n",
       "3           0.0         0.0        0.0          0.0             335   \n",
       "4           0.0         0.0        0.0          0.0              12   \n",
       "\n",
       "  following_count  tweet_count listed_count  \\\n",
       "0             527         8515            8   \n",
       "1             866        30678           17   \n",
       "2              85          440            1   \n",
       "3             866        30678           17   \n",
       "4               0           47            0   \n",
       "\n",
       "                                coordinates  \n",
       "0  [-14.66968932985889, -64.51162291776335]  \n",
       "1  [-14.66968932985889, -64.51162291776335]  \n",
       "2  [-14.66968932985889, -64.51162291776335]  \n",
       "3  [-14.66968932985889, -64.51162291776335]  \n",
       "4  [-14.66968932985889, -64.51162291776335]  \n",
       "\n",
       "[5 rows x 35 columns]"
      ]
     },
     "execution_count": 30,
     "metadata": {},
     "output_type": "execute_result"
    }
   ],
   "source": [
    "df_total.head()"
   ]
  },
  {
   "cell_type": "code",
   "execution_count": 31,
   "id": "329838de",
   "metadata": {},
   "outputs": [
    {
     "data": {
      "text/plain": [
       "[-14.66968932985889, -64.51162291776335]"
      ]
     },
     "execution_count": 31,
     "metadata": {},
     "output_type": "execute_result"
    }
   ],
   "source": [
    "df_total.coordinates.iloc[0]"
   ]
  },
  {
   "cell_type": "code",
   "execution_count": 32,
   "id": "f0d2ac4c",
   "metadata": {},
   "outputs": [
    {
     "data": {
      "text/plain": [
       "(10815072, 35)"
      ]
     },
     "execution_count": 32,
     "metadata": {},
     "output_type": "execute_result"
    }
   ],
   "source": [
    "df_total.shape"
   ]
  },
  {
   "cell_type": "code",
   "execution_count": 33,
   "id": "7e8dd079",
   "metadata": {},
   "outputs": [
    {
     "data": {
      "text/plain": [
       "1364435440456114176    8\n",
       "1359732461874401280    8\n",
       "1357297315783008263    8\n",
       "1359728025751883777    8\n",
       "1359728075819384838    8\n",
       "                      ..\n",
       "1426570461069168643    1\n",
       "1426570522935111681    1\n",
       "1426570542858088453    1\n",
       "1426570548553863171    1\n",
       "1432881235022516228    1\n",
       "Name: id, Length: 6799149, dtype: int64"
      ]
     },
     "execution_count": 33,
     "metadata": {},
     "output_type": "execute_result"
    }
   ],
   "source": [
    "df_total.id.value_counts()"
   ]
  },
  {
   "cell_type": "code",
   "execution_count": null,
   "id": "bdefd04d",
   "metadata": {},
   "outputs": [],
   "source": [
    "10 815 072"
   ]
  }
 ],
 "metadata": {
  "kernelspec": {
   "display_name": "Python 3",
   "language": "python",
   "name": "python3"
  },
  "language_info": {
   "codemirror_mode": {
    "name": "ipython",
    "version": 3
   },
   "file_extension": ".py",
   "mimetype": "text/x-python",
   "name": "python",
   "nbconvert_exporter": "python",
   "pygments_lexer": "ipython3",
   "version": "3.8.8"
  }
 },
 "nbformat": 4,
 "nbformat_minor": 5
}
