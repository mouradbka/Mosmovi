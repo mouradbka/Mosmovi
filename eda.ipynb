{
 "cells": [
  {
   "cell_type": "code",
   "execution_count": 35,
   "id": "1e827f4b",
   "metadata": {},
   "outputs": [
    {
     "name": "stderr",
     "output_type": "stream",
     "text": [
      "[nltk_data] Downloading package stopwords to /home/mourad/nltk_data...\n",
      "[nltk_data]   Unzipping corpora/stopwords.zip.\n"
     ]
    }
   ],
   "source": [
    "import pandas as pd\n",
    "import os\n",
    "import numpy as np\n",
    "from utils import Processing as PR, text_preprocessing as TP\n",
    "import multiprocessing\n",
    "\n",
    "import nltk\n",
    "# nltk.download('punkt')\n",
    "# nltk.download('stopwords')\n",
    "# from textblob import TextBlob\n",
    "from nltk.tokenize import word_tokenize\n",
    "from nltk.probability import FreqDist\n",
    "\n",
    "pd.set_option('max_columns', None)\n",
    "pd.set_option('display.max_rows', 100)\n",
    "from collections import Counter"
   ]
  },
  {
   "cell_type": "code",
   "execution_count": 2,
   "id": "5a87f4c0",
   "metadata": {},
   "outputs": [
    {
     "name": "stderr",
     "output_type": "stream",
     "text": [
      "/home/mourad/anaconda3/lib/python3.8/site-packages/IPython/core/magics/execution.py:1321: DtypeWarning: Columns (9) have mixed types.Specify dtype option on import or set low_memory=False.\n",
      "  exec(code, glob, local_ns)\n"
     ]
    },
    {
     "name": "stdout",
     "output_type": "stream",
     "text": [
      "(10815072, 38)\n",
      "CPU times: user 1min 19s, sys: 13.7 s, total: 1min 33s\n",
      "Wall time: 1min 33s\n"
     ]
    }
   ],
   "source": [
    "%%time\n",
    "# df = PR.format_csvs_to_df('../data/Copy of dev_south_america_merged/')\n",
    "df = pd.read_csv('../data/formated.csv')\n",
    "print(df.shape)"
   ]
  },
  {
   "cell_type": "code",
   "execution_count": 3,
   "id": "c2e2137b",
   "metadata": {},
   "outputs": [],
   "source": [
    "# %%time\n",
    "# df['created_at'] = pd.to_datetime(df['created_at'])\n",
    "# df['lat'], df['long'] = df.coordinates.apply(lambda x : x[0]), df.coordinates.apply(lambda x : x[1])\n",
    "# df['id'] = df['id'].astype(np.int64).astype(str)\n",
    "# df['conversation_id'] = df['conversation_id'].fillna(0).astype(np.int64).astype(str)\n",
    "# df['in_reply_to_user_id'] = df['in_reply_to_user_id'].fillna(0).astype(np.int64).astype(str)\n",
    "# df['author_id'] = df['author_id'].fillna(0).astype(np.int64).astype(str)\n",
    "# # df['geo_country'] = df['geo_country'].apply(lambda x : PR.rename_coutries(x)) "
   ]
  },
  {
   "cell_type": "code",
   "execution_count": 4,
   "id": "32455d20",
   "metadata": {},
   "outputs": [],
   "source": [
    "# df.to_csv('../data/formated.csv')"
   ]
  },
  {
   "cell_type": "code",
   "execution_count": 5,
   "id": "0bd6d9ac",
   "metadata": {},
   "outputs": [
    {
     "data": {
      "text/html": [
       "<div>\n",
       "<style scoped>\n",
       "    .dataframe tbody tr th:only-of-type {\n",
       "        vertical-align: middle;\n",
       "    }\n",
       "\n",
       "    .dataframe tbody tr th {\n",
       "        vertical-align: top;\n",
       "    }\n",
       "\n",
       "    .dataframe thead th {\n",
       "        text-align: right;\n",
       "    }\n",
       "</style>\n",
       "<table border=\"1\" class=\"dataframe\">\n",
       "  <thead>\n",
       "    <tr style=\"text-align: right;\">\n",
       "      <th></th>\n",
       "      <th>Unnamed: 0</th>\n",
       "      <th>lang</th>\n",
       "      <th>id</th>\n",
       "      <th>created_at</th>\n",
       "      <th>text</th>\n",
       "      <th>conversation_id</th>\n",
       "      <th>in_reply_to_user_id</th>\n",
       "      <th>reply_settings</th>\n",
       "      <th>source</th>\n",
       "      <th>possibly_sensitive</th>\n",
       "      <th>geo_place_id</th>\n",
       "      <th>geo_place_type</th>\n",
       "      <th>geo_country</th>\n",
       "      <th>geo_full_name</th>\n",
       "      <th>geo_country_code</th>\n",
       "      <th>geo_geo_type</th>\n",
       "      <th>geo_geo_bbox</th>\n",
       "      <th>geo_geo_properties</th>\n",
       "      <th>author_id</th>\n",
       "      <th>author_profile_image_url</th>\n",
       "      <th>author_username</th>\n",
       "      <th>author_url</th>\n",
       "      <th>author_name</th>\n",
       "      <th>author_created_at</th>\n",
       "      <th>author_verified</th>\n",
       "      <th>author_protected</th>\n",
       "      <th>author_description</th>\n",
       "      <th>retweet_count</th>\n",
       "      <th>reply_count</th>\n",
       "      <th>like_count</th>\n",
       "      <th>quote_count</th>\n",
       "      <th>followers_count</th>\n",
       "      <th>following_count</th>\n",
       "      <th>tweet_count</th>\n",
       "      <th>listed_count</th>\n",
       "      <th>coordinates</th>\n",
       "      <th>lat</th>\n",
       "      <th>long</th>\n",
       "    </tr>\n",
       "  </thead>\n",
       "  <tbody>\n",
       "    <tr>\n",
       "      <th>5714870</th>\n",
       "      <td>2821</td>\n",
       "      <td>es</td>\n",
       "      <td>1356210702650904576</td>\n",
       "      <td>2021-02-01 12:00:03+00:00</td>\n",
       "      <td>Acaba de publicar una foto en Urbanización San...</td>\n",
       "      <td>1356210702650904576</td>\n",
       "      <td>0</td>\n",
       "      <td>everyone</td>\n",
       "      <td>Instagram</td>\n",
       "      <td>True</td>\n",
       "      <td>0176ea0c39765f09</td>\n",
       "      <td>city</td>\n",
       "      <td>Venezuela</td>\n",
       "      <td>San Francisco, Venezuela</td>\n",
       "      <td>VE</td>\n",
       "      <td>NaN</td>\n",
       "      <td>[-71.6788483, 10.5293207, -71.6111978, 10.5961...</td>\n",
       "      <td>{}</td>\n",
       "      <td>2471875070</td>\n",
       "      <td>https://pbs.twimg.com/profile_images/127973853...</td>\n",
       "      <td>renelop97965381</td>\n",
       "      <td>NaN</td>\n",
       "      <td>INMOBILIARIA ASESOR ESOR René Lopez K.L MARCAIBO</td>\n",
       "      <td>2014-05-01T03:37:13.000Z</td>\n",
       "      <td>False</td>\n",
       "      <td>False</td>\n",
       "      <td>NaN</td>\n",
       "      <td>0.0</td>\n",
       "      <td>0.0</td>\n",
       "      <td>0.0</td>\n",
       "      <td>0.0</td>\n",
       "      <td>3</td>\n",
       "      <td>3</td>\n",
       "      <td>740</td>\n",
       "      <td>0</td>\n",
       "      <td>[10.260839184739002, -71.97499804311941]</td>\n",
       "      <td>10.260839</td>\n",
       "      <td>-71.974998</td>\n",
       "    </tr>\n",
       "    <tr>\n",
       "      <th>5714869</th>\n",
       "      <td>2820</td>\n",
       "      <td>es</td>\n",
       "      <td>1356210748637241344</td>\n",
       "      <td>2021-02-01 12:00:14+00:00</td>\n",
       "      <td>El lunes ya me empezó mal 🥳.</td>\n",
       "      <td>1356210748637241344</td>\n",
       "      <td>0</td>\n",
       "      <td>everyone</td>\n",
       "      <td>Twitter for iPhone</td>\n",
       "      <td>False</td>\n",
       "      <td>002e2add0d1ff144</td>\n",
       "      <td>city</td>\n",
       "      <td>Venezuela</td>\n",
       "      <td>Ciudad Ojeda, Venezuela</td>\n",
       "      <td>VE</td>\n",
       "      <td>NaN</td>\n",
       "      <td>[-71.3538208, 10.1781855, -71.2887573, 10.2315...</td>\n",
       "      <td>{}</td>\n",
       "      <td>116914586</td>\n",
       "      <td>https://pbs.twimg.com/profile_images/134374322...</td>\n",
       "      <td>Saidyaraujo</td>\n",
       "      <td>https://t.co/dShomYDPG4</td>\n",
       "      <td>Saidy</td>\n",
       "      <td>2010-02-23T23:56:07.000Z</td>\n",
       "      <td>False</td>\n",
       "      <td>False</td>\n",
       "      <td>Post Nubila Phoebus. 🌤</td>\n",
       "      <td>0.0</td>\n",
       "      <td>1.0</td>\n",
       "      <td>0.0</td>\n",
       "      <td>0.0</td>\n",
       "      <td>796</td>\n",
       "      <td>423</td>\n",
       "      <td>38182</td>\n",
       "      <td>6</td>\n",
       "      <td>[10.260839184739002, -71.97499804311941]</td>\n",
       "      <td>10.260839</td>\n",
       "      <td>-71.974998</td>\n",
       "    </tr>\n",
       "    <tr>\n",
       "      <th>8487107</th>\n",
       "      <td>4671</td>\n",
       "      <td>es</td>\n",
       "      <td>1356210789477191680</td>\n",
       "      <td>2021-02-01 12:00:24+00:00</td>\n",
       "      <td>@AndresCjn41 @Maridon13335354 Las cajitas Erót...</td>\n",
       "      <td>1353150416972881920</td>\n",
       "      <td>3057698002</td>\n",
       "      <td>everyone</td>\n",
       "      <td>Twitter for Android</td>\n",
       "      <td>False</td>\n",
       "      <td>0170d9df339a9451</td>\n",
       "      <td>city</td>\n",
       "      <td>Colombia</td>\n",
       "      <td>Riohacha, Colombia</td>\n",
       "      <td>CO</td>\n",
       "      <td>NaN</td>\n",
       "      <td>[-73.3878010031889, 10.907056003372, -72.60212...</td>\n",
       "      <td>{}</td>\n",
       "      <td>1351759796983181312</td>\n",
       "      <td>https://pbs.twimg.com/profile_images/135176020...</td>\n",
       "      <td>puntog_tienda</td>\n",
       "      <td>https://t.co/na293qCNhD</td>\n",
       "      <td>PuntoGTienda</td>\n",
       "      <td>2021-01-20T05:14:27.000Z</td>\n",
       "      <td>False</td>\n",
       "      <td>False</td>\n",
       "      <td>Somos los cómplices perfectos del Placer ❤️ En...</td>\n",
       "      <td>0.0</td>\n",
       "      <td>0.0</td>\n",
       "      <td>0.0</td>\n",
       "      <td>0.0</td>\n",
       "      <td>37</td>\n",
       "      <td>24</td>\n",
       "      <td>22</td>\n",
       "      <td>0</td>\n",
       "      <td>[11.343964420474848, -72.29185226444467]</td>\n",
       "      <td>11.343964</td>\n",
       "      <td>-72.291852</td>\n",
       "    </tr>\n",
       "    <tr>\n",
       "      <th>5799186</th>\n",
       "      <td>3482</td>\n",
       "      <td>es</td>\n",
       "      <td>1356210882355802112</td>\n",
       "      <td>2021-02-01 12:00:46+00:00</td>\n",
       "      <td>Pues crealooo,porque no me leí nada de eso pro...</td>\n",
       "      <td>1356210882355802112</td>\n",
       "      <td>0</td>\n",
       "      <td>everyone</td>\n",
       "      <td>Twitter for iPhone</td>\n",
       "      <td>False</td>\n",
       "      <td>01030be40ff4ff39</td>\n",
       "      <td>city</td>\n",
       "      <td>Colombia</td>\n",
       "      <td>Sahagún, Colombia</td>\n",
       "      <td>CO</td>\n",
       "      <td>NaN</td>\n",
       "      <td>[-75.5609759988304, 8.56956300178352, -75.2774...</td>\n",
       "      <td>{}</td>\n",
       "      <td>1115724327435956224</td>\n",
       "      <td>https://pbs.twimg.com/profile_images/142053884...</td>\n",
       "      <td>ChechooSerpa</td>\n",
       "      <td>NaN</td>\n",
       "      <td>Chechoo_Serpa🌞.</td>\n",
       "      <td>2019-04-09T21:13:03.000Z</td>\n",
       "      <td>False</td>\n",
       "      <td>False</td>\n",
       "      <td>Estudiante de Derecho 👨‍🎓 ⚖️</td>\n",
       "      <td>0.0</td>\n",
       "      <td>0.0</td>\n",
       "      <td>3.0</td>\n",
       "      <td>0.0</td>\n",
       "      <td>63</td>\n",
       "      <td>262</td>\n",
       "      <td>2024</td>\n",
       "      <td>0</td>\n",
       "      <td>[8.633174749054467, -75.40033266090484]</td>\n",
       "      <td>8.633175</td>\n",
       "      <td>-75.400333</td>\n",
       "    </tr>\n",
       "    <tr>\n",
       "      <th>6236907</th>\n",
       "      <td>3369</td>\n",
       "      <td>es</td>\n",
       "      <td>1356210882355802112</td>\n",
       "      <td>2021-02-01 12:00:46+00:00</td>\n",
       "      <td>Pues crealooo,porque no me leí nada de eso pro...</td>\n",
       "      <td>1356210882355802112</td>\n",
       "      <td>0</td>\n",
       "      <td>everyone</td>\n",
       "      <td>Twitter for iPhone</td>\n",
       "      <td>False</td>\n",
       "      <td>01030be40ff4ff39</td>\n",
       "      <td>city</td>\n",
       "      <td>Colombia</td>\n",
       "      <td>Sahagún, Colombia</td>\n",
       "      <td>CO</td>\n",
       "      <td>NaN</td>\n",
       "      <td>[-75.5609759988304, 8.56956300178352, -75.2774...</td>\n",
       "      <td>{}</td>\n",
       "      <td>1115724327435956224</td>\n",
       "      <td>https://pbs.twimg.com/profile_images/142053884...</td>\n",
       "      <td>ChechooSerpa</td>\n",
       "      <td>NaN</td>\n",
       "      <td>Chechoo_Serpa🌞.</td>\n",
       "      <td>2019-04-09T21:13:03.000Z</td>\n",
       "      <td>False</td>\n",
       "      <td>False</td>\n",
       "      <td>Estudiante de Derecho 👨‍🎓 ⚖️</td>\n",
       "      <td>0.0</td>\n",
       "      <td>0.0</td>\n",
       "      <td>3.0</td>\n",
       "      <td>0.0</td>\n",
       "      <td>63</td>\n",
       "      <td>262</td>\n",
       "      <td>2024</td>\n",
       "      <td>0</td>\n",
       "      <td>[8.633958647805697, -74.30371468927508]</td>\n",
       "      <td>8.633959</td>\n",
       "      <td>-74.303715</td>\n",
       "    </tr>\n",
       "  </tbody>\n",
       "</table>\n",
       "</div>"
      ],
      "text/plain": [
       "         Unnamed: 0 lang                   id                 created_at  \\\n",
       "5714870        2821   es  1356210702650904576  2021-02-01 12:00:03+00:00   \n",
       "5714869        2820   es  1356210748637241344  2021-02-01 12:00:14+00:00   \n",
       "8487107        4671   es  1356210789477191680  2021-02-01 12:00:24+00:00   \n",
       "5799186        3482   es  1356210882355802112  2021-02-01 12:00:46+00:00   \n",
       "6236907        3369   es  1356210882355802112  2021-02-01 12:00:46+00:00   \n",
       "\n",
       "                                                      text  \\\n",
       "5714870  Acaba de publicar una foto en Urbanización San...   \n",
       "5714869                       El lunes ya me empezó mal 🥳.   \n",
       "8487107  @AndresCjn41 @Maridon13335354 Las cajitas Erót...   \n",
       "5799186  Pues crealooo,porque no me leí nada de eso pro...   \n",
       "6236907  Pues crealooo,porque no me leí nada de eso pro...   \n",
       "\n",
       "             conversation_id  in_reply_to_user_id reply_settings  \\\n",
       "5714870  1356210702650904576                    0       everyone   \n",
       "5714869  1356210748637241344                    0       everyone   \n",
       "8487107  1353150416972881920           3057698002       everyone   \n",
       "5799186  1356210882355802112                    0       everyone   \n",
       "6236907  1356210882355802112                    0       everyone   \n",
       "\n",
       "                      source possibly_sensitive      geo_place_id  \\\n",
       "5714870            Instagram               True  0176ea0c39765f09   \n",
       "5714869   Twitter for iPhone              False  002e2add0d1ff144   \n",
       "8487107  Twitter for Android              False  0170d9df339a9451   \n",
       "5799186   Twitter for iPhone              False  01030be40ff4ff39   \n",
       "6236907   Twitter for iPhone              False  01030be40ff4ff39   \n",
       "\n",
       "        geo_place_type geo_country             geo_full_name geo_country_code  \\\n",
       "5714870           city   Venezuela  San Francisco, Venezuela               VE   \n",
       "5714869           city   Venezuela   Ciudad Ojeda, Venezuela               VE   \n",
       "8487107           city    Colombia        Riohacha, Colombia               CO   \n",
       "5799186           city    Colombia         Sahagún, Colombia               CO   \n",
       "6236907           city    Colombia         Sahagún, Colombia               CO   \n",
       "\n",
       "         geo_geo_type                                       geo_geo_bbox  \\\n",
       "5714870           NaN  [-71.6788483, 10.5293207, -71.6111978, 10.5961...   \n",
       "5714869           NaN  [-71.3538208, 10.1781855, -71.2887573, 10.2315...   \n",
       "8487107           NaN  [-73.3878010031889, 10.907056003372, -72.60212...   \n",
       "5799186           NaN  [-75.5609759988304, 8.56956300178352, -75.2774...   \n",
       "6236907           NaN  [-75.5609759988304, 8.56956300178352, -75.2774...   \n",
       "\n",
       "        geo_geo_properties            author_id  \\\n",
       "5714870                 {}           2471875070   \n",
       "5714869                 {}            116914586   \n",
       "8487107                 {}  1351759796983181312   \n",
       "5799186                 {}  1115724327435956224   \n",
       "6236907                 {}  1115724327435956224   \n",
       "\n",
       "                                  author_profile_image_url  author_username  \\\n",
       "5714870  https://pbs.twimg.com/profile_images/127973853...  renelop97965381   \n",
       "5714869  https://pbs.twimg.com/profile_images/134374322...      Saidyaraujo   \n",
       "8487107  https://pbs.twimg.com/profile_images/135176020...    puntog_tienda   \n",
       "5799186  https://pbs.twimg.com/profile_images/142053884...     ChechooSerpa   \n",
       "6236907  https://pbs.twimg.com/profile_images/142053884...     ChechooSerpa   \n",
       "\n",
       "                      author_url  \\\n",
       "5714870                      NaN   \n",
       "5714869  https://t.co/dShomYDPG4   \n",
       "8487107  https://t.co/na293qCNhD   \n",
       "5799186                      NaN   \n",
       "6236907                      NaN   \n",
       "\n",
       "                                              author_name  \\\n",
       "5714870  INMOBILIARIA ASESOR ESOR René Lopez K.L MARCAIBO   \n",
       "5714869                                             Saidy   \n",
       "8487107                                      PuntoGTienda   \n",
       "5799186                                   Chechoo_Serpa🌞.   \n",
       "6236907                                   Chechoo_Serpa🌞.   \n",
       "\n",
       "                author_created_at  author_verified  author_protected  \\\n",
       "5714870  2014-05-01T03:37:13.000Z            False             False   \n",
       "5714869  2010-02-23T23:56:07.000Z            False             False   \n",
       "8487107  2021-01-20T05:14:27.000Z            False             False   \n",
       "5799186  2019-04-09T21:13:03.000Z            False             False   \n",
       "6236907  2019-04-09T21:13:03.000Z            False             False   \n",
       "\n",
       "                                        author_description  retweet_count  \\\n",
       "5714870                                                NaN            0.0   \n",
       "5714869                             Post Nubila Phoebus. 🌤            0.0   \n",
       "8487107  Somos los cómplices perfectos del Placer ❤️ En...            0.0   \n",
       "5799186                       Estudiante de Derecho 👨‍🎓 ⚖️            0.0   \n",
       "6236907                       Estudiante de Derecho 👨‍🎓 ⚖️            0.0   \n",
       "\n",
       "         reply_count  like_count  quote_count  followers_count  \\\n",
       "5714870          0.0         0.0          0.0                3   \n",
       "5714869          1.0         0.0          0.0              796   \n",
       "8487107          0.0         0.0          0.0               37   \n",
       "5799186          0.0         3.0          0.0               63   \n",
       "6236907          0.0         3.0          0.0               63   \n",
       "\n",
       "         following_count  tweet_count  listed_count  \\\n",
       "5714870                3          740             0   \n",
       "5714869              423        38182             6   \n",
       "8487107               24           22             0   \n",
       "5799186              262         2024             0   \n",
       "6236907              262         2024             0   \n",
       "\n",
       "                                      coordinates        lat       long  \n",
       "5714870  [10.260839184739002, -71.97499804311941]  10.260839 -71.974998  \n",
       "5714869  [10.260839184739002, -71.97499804311941]  10.260839 -71.974998  \n",
       "8487107  [11.343964420474848, -72.29185226444467]  11.343964 -72.291852  \n",
       "5799186   [8.633174749054467, -75.40033266090484]   8.633175 -75.400333  \n",
       "6236907   [8.633958647805697, -74.30371468927508]   8.633959 -74.303715  "
      ]
     },
     "execution_count": 5,
     "metadata": {},
     "output_type": "execute_result"
    }
   ],
   "source": [
    "df.sort_values('id').head()"
   ]
  },
  {
   "cell_type": "markdown",
   "id": "7da2fed2",
   "metadata": {},
   "source": [
    "### Duplicates"
   ]
  },
  {
   "cell_type": "code",
   "execution_count": 6,
   "id": "73fe68fb",
   "metadata": {},
   "outputs": [
    {
     "name": "stdout",
     "output_type": "stream",
     "text": [
      "CPU times: user 4.26 s, sys: 573 ms, total: 4.84 s\n",
      "Wall time: 4.83 s\n"
     ]
    }
   ],
   "source": [
    "%%time \n",
    "df_dupli_sort = df[df.duplicated('id')].sort_values('id')"
   ]
  },
  {
   "cell_type": "code",
   "execution_count": 7,
   "id": "09ee9254",
   "metadata": {},
   "outputs": [
    {
     "data": {
      "text/html": [
       "<div>\n",
       "<style scoped>\n",
       "    .dataframe tbody tr th:only-of-type {\n",
       "        vertical-align: middle;\n",
       "    }\n",
       "\n",
       "    .dataframe tbody tr th {\n",
       "        vertical-align: top;\n",
       "    }\n",
       "\n",
       "    .dataframe thead th {\n",
       "        text-align: right;\n",
       "    }\n",
       "</style>\n",
       "<table border=\"1\" class=\"dataframe\">\n",
       "  <thead>\n",
       "    <tr style=\"text-align: right;\">\n",
       "      <th></th>\n",
       "      <th>id</th>\n",
       "      <th>created_at</th>\n",
       "      <th>text</th>\n",
       "      <th>geo_geo_bbox</th>\n",
       "      <th>coordinates</th>\n",
       "    </tr>\n",
       "  </thead>\n",
       "  <tbody>\n",
       "    <tr>\n",
       "      <th>6236907</th>\n",
       "      <td>1356210882355802112</td>\n",
       "      <td>2021-02-01 12:00:46+00:00</td>\n",
       "      <td>Pues crealooo,porque no me leí nada de eso pro...</td>\n",
       "      <td>[-75.5609759988304, 8.56956300178352, -75.2774...</td>\n",
       "      <td>[8.633958647805697, -74.30371468927508]</td>\n",
       "    </tr>\n",
       "    <tr>\n",
       "      <th>9093827</th>\n",
       "      <td>1356210882355802112</td>\n",
       "      <td>2021-02-01 12:00:46+00:00</td>\n",
       "      <td>Pues crealooo,porque no me leí nada de eso pro...</td>\n",
       "      <td>[-75.5609759988304, 8.56956300178352, -75.2774...</td>\n",
       "      <td>[8.633566689402377, -74.8520239579793]</td>\n",
       "    </tr>\n",
       "    <tr>\n",
       "      <th>10461627</th>\n",
       "      <td>1356210903507750912</td>\n",
       "      <td>2021-02-01 12:00:51+00:00</td>\n",
       "      <td>Todos esos barberos intensos me dan como ladil...</td>\n",
       "      <td>[-71.1957474, 8.5660877, -71.1269677, 8.631216]</td>\n",
       "      <td>[8.6363107774379, -71.01384719274392]</td>\n",
       "    </tr>\n",
       "    <tr>\n",
       "      <th>1654141</th>\n",
       "      <td>1356210903507750912</td>\n",
       "      <td>2021-02-01 12:00:51+00:00</td>\n",
       "      <td>Todos esos barberos intensos me dan como ladil...</td>\n",
       "      <td>[-71.1957474, 8.5660877, -71.1269677, 8.631216]</td>\n",
       "      <td>[8.636702862253415, -70.46553396211206]</td>\n",
       "    </tr>\n",
       "    <tr>\n",
       "      <th>10788121</th>\n",
       "      <td>1356211124618854400</td>\n",
       "      <td>2021-02-01 12:01:43+00:00</td>\n",
       "      <td>✍🏽 https://t.co/NwUGvXVEiz</td>\n",
       "      <td>[-73.7195089983023, 9.04708100067454, -73.2805...</td>\n",
       "      <td>[9.176336590342029, -73.33889193777357]</td>\n",
       "    </tr>\n",
       "    <tr>\n",
       "      <th>6222981</th>\n",
       "      <td>1356211246652149760</td>\n",
       "      <td>2021-02-01 12:02:13+00:00</td>\n",
       "      <td>Rusia prevé normas adicionales para los gigant...</td>\n",
       "      <td>[-64.6778108, 10.0977755, -64.5428047, 10.2360...</td>\n",
       "      <td>[10.267850269190935, -63.71156430755125]</td>\n",
       "    </tr>\n",
       "    <tr>\n",
       "      <th>5560157</th>\n",
       "      <td>1356211246652149760</td>\n",
       "      <td>2021-02-01 12:02:13+00:00</td>\n",
       "      <td>Rusia prevé normas adicionales para los gigant...</td>\n",
       "      <td>[-64.6778108, 10.0977755, -64.5428047, 10.2360...</td>\n",
       "      <td>[10.268317848673872, -63.16066225516849]</td>\n",
       "    </tr>\n",
       "    <tr>\n",
       "      <th>1198018</th>\n",
       "      <td>1356211458372235264</td>\n",
       "      <td>2021-02-01 12:03:03+00:00</td>\n",
       "      <td>@juliovreiker1 @mhcamargo @frankdurangoes @jor...</td>\n",
       "      <td>[-75.7061430026356, 2.71225299542781, -74.9383...</td>\n",
       "      <td>[3.2170298179049994, -74.51017496996857]</td>\n",
       "    </tr>\n",
       "    <tr>\n",
       "      <th>5560156</th>\n",
       "      <td>1356211545240444928</td>\n",
       "      <td>2021-02-01 12:03:24+00:00</td>\n",
       "      <td>Una exreina de belleza no puede conseguir trab...</td>\n",
       "      <td>[-64.6778108, 10.0977755, -64.5428047, 10.2360...</td>\n",
       "      <td>[10.268317848673872, -63.16066225516849]</td>\n",
       "    </tr>\n",
       "    <tr>\n",
       "      <th>6222980</th>\n",
       "      <td>1356211545240444928</td>\n",
       "      <td>2021-02-01 12:03:24+00:00</td>\n",
       "      <td>Una exreina de belleza no puede conseguir trab...</td>\n",
       "      <td>[-64.6778108, 10.0977755, -64.5428047, 10.2360...</td>\n",
       "      <td>[10.267850269190935, -63.71156430755125]</td>\n",
       "    </tr>\n",
       "  </tbody>\n",
       "</table>\n",
       "</div>"
      ],
      "text/plain": [
       "                           id                 created_at  \\\n",
       "6236907   1356210882355802112  2021-02-01 12:00:46+00:00   \n",
       "9093827   1356210882355802112  2021-02-01 12:00:46+00:00   \n",
       "10461627  1356210903507750912  2021-02-01 12:00:51+00:00   \n",
       "1654141   1356210903507750912  2021-02-01 12:00:51+00:00   \n",
       "10788121  1356211124618854400  2021-02-01 12:01:43+00:00   \n",
       "6222981   1356211246652149760  2021-02-01 12:02:13+00:00   \n",
       "5560157   1356211246652149760  2021-02-01 12:02:13+00:00   \n",
       "1198018   1356211458372235264  2021-02-01 12:03:03+00:00   \n",
       "5560156   1356211545240444928  2021-02-01 12:03:24+00:00   \n",
       "6222980   1356211545240444928  2021-02-01 12:03:24+00:00   \n",
       "\n",
       "                                                       text  \\\n",
       "6236907   Pues crealooo,porque no me leí nada de eso pro...   \n",
       "9093827   Pues crealooo,porque no me leí nada de eso pro...   \n",
       "10461627  Todos esos barberos intensos me dan como ladil...   \n",
       "1654141   Todos esos barberos intensos me dan como ladil...   \n",
       "10788121                         ✍🏽 https://t.co/NwUGvXVEiz   \n",
       "6222981   Rusia prevé normas adicionales para los gigant...   \n",
       "5560157   Rusia prevé normas adicionales para los gigant...   \n",
       "1198018   @juliovreiker1 @mhcamargo @frankdurangoes @jor...   \n",
       "5560156   Una exreina de belleza no puede conseguir trab...   \n",
       "6222980   Una exreina de belleza no puede conseguir trab...   \n",
       "\n",
       "                                               geo_geo_bbox  \\\n",
       "6236907   [-75.5609759988304, 8.56956300178352, -75.2774...   \n",
       "9093827   [-75.5609759988304, 8.56956300178352, -75.2774...   \n",
       "10461627    [-71.1957474, 8.5660877, -71.1269677, 8.631216]   \n",
       "1654141     [-71.1957474, 8.5660877, -71.1269677, 8.631216]   \n",
       "10788121  [-73.7195089983023, 9.04708100067454, -73.2805...   \n",
       "6222981   [-64.6778108, 10.0977755, -64.5428047, 10.2360...   \n",
       "5560157   [-64.6778108, 10.0977755, -64.5428047, 10.2360...   \n",
       "1198018   [-75.7061430026356, 2.71225299542781, -74.9383...   \n",
       "5560156   [-64.6778108, 10.0977755, -64.5428047, 10.2360...   \n",
       "6222980   [-64.6778108, 10.0977755, -64.5428047, 10.2360...   \n",
       "\n",
       "                                       coordinates  \n",
       "6236907    [8.633958647805697, -74.30371468927508]  \n",
       "9093827     [8.633566689402377, -74.8520239579793]  \n",
       "10461627     [8.6363107774379, -71.01384719274392]  \n",
       "1654141    [8.636702862253415, -70.46553396211206]  \n",
       "10788121   [9.176336590342029, -73.33889193777357]  \n",
       "6222981   [10.267850269190935, -63.71156430755125]  \n",
       "5560157   [10.268317848673872, -63.16066225516849]  \n",
       "1198018   [3.2170298179049994, -74.51017496996857]  \n",
       "5560156   [10.268317848673872, -63.16066225516849]  \n",
       "6222980   [10.267850269190935, -63.71156430755125]  "
      ]
     },
     "execution_count": 7,
     "metadata": {},
     "output_type": "execute_result"
    }
   ],
   "source": [
    "df_dupli_sort[['id', 'created_at', 'text','geo_geo_bbox', 'coordinates']].head(10)"
   ]
  },
  {
   "cell_type": "markdown",
   "id": "28224949",
   "metadata": {},
   "source": [
    "### Date"
   ]
  },
  {
   "cell_type": "code",
   "execution_count": 8,
   "id": "9799eab2",
   "metadata": {},
   "outputs": [
    {
     "ename": "TypeError",
     "evalue": "'<' not supported between instances of 'float' and 'str'",
     "output_type": "error",
     "traceback": [
      "\u001b[0;31m---------------------------------------------------------------------------\u001b[0m",
      "\u001b[0;31mTypeError\u001b[0m                                 Traceback (most recent call last)",
      "\u001b[0;32m<timed eval>\u001b[0m in \u001b[0;36m<module>\u001b[0;34m\u001b[0m\n",
      "\u001b[0;31mTypeError\u001b[0m: '<' not supported between instances of 'float' and 'str'"
     ]
    }
   ],
   "source": [
    "%%time\n",
    "(min(df.created_at), max(df.created_at))"
   ]
  },
  {
   "cell_type": "markdown",
   "id": "b9d293a0",
   "metadata": {},
   "source": [
    "### Lattitude / Longitude"
   ]
  },
  {
   "cell_type": "code",
   "execution_count": 9,
   "id": "08e25628",
   "metadata": {},
   "outputs": [
    {
     "name": "stdout",
     "output_type": "stream",
     "text": [
      "latitude: -54.69321231192183 12.429793434161136\n",
      "longitude: -91.17963727111682 -32.18832508121774\n"
     ]
    }
   ],
   "source": [
    "print('latitude:', min(df.lat), max(df.lat))\n",
    "print('longitude:',min(df.long), max(df.long))"
   ]
  },
  {
   "cell_type": "markdown",
   "id": "62d94cad",
   "metadata": {},
   "source": [
    "### Categorical values count"
   ]
  },
  {
   "cell_type": "code",
   "execution_count": 10,
   "id": "56c59004",
   "metadata": {},
   "outputs": [
    {
     "data": {
      "text/plain": [
       "es     4653349\n",
       "pt     4325646\n",
       "und    1181968\n",
       "en      280886\n",
       "it       49969\n",
       "in       37262\n",
       "tl       29851\n",
       "fr       26944\n",
       "ca       23071\n",
       "eu       12089\n",
       "ht       10947\n",
       "et       10188\n",
       "tr        8065\n",
       "de        6924\n",
       "nl        5884\n",
       "lt        5772\n",
       "ro        4410\n",
       "hu        3935\n",
       "cs        3547\n",
       "pl        3508\n",
       "fi        3384\n",
       "cy        3376\n",
       "is        2615\n",
       "lv        2546\n",
       "no        2313\n",
       "sv        2121\n",
       "ja        2031\n",
       "da        1767\n",
       "hi        1585\n",
       "sl        1180\n",
       "vi        1068\n",
       "ko         973\n",
       "ru         780\n",
       "zh         485\n",
       "ar         469\n",
       "iw         248\n",
       "fa          26\n",
       "el          23\n",
       "bn          13\n",
       "uk          13\n",
       "bg          12\n",
       "th          11\n",
       "kn          10\n",
       "am           7\n",
       "ps           6\n",
       "te           6\n",
       "km           5\n",
       "ta           3\n",
       "ml           2\n",
       "my           2\n",
       "ne           2\n",
       "mr           1\n",
       "ur           1\n",
       "lo           1\n",
       "Name: lang, dtype: int64"
      ]
     },
     "execution_count": 10,
     "metadata": {},
     "output_type": "execute_result"
    }
   ],
   "source": [
    "df.lang.value_counts()"
   ]
  },
  {
   "cell_type": "code",
   "execution_count": 11,
   "id": "c98c9151",
   "metadata": {},
   "outputs": [
    {
     "data": {
      "text/plain": [
       "everyone          10683208\n",
       "following            22164\n",
       "mentionedUsers        5882\n",
       "other                   46\n",
       "Name: reply_settings, dtype: int64"
      ]
     },
     "execution_count": 11,
     "metadata": {},
     "output_type": "execute_result"
    }
   ],
   "source": [
    "df.reply_settings.value_counts()"
   ]
  },
  {
   "cell_type": "code",
   "execution_count": 12,
   "id": "dfa48cfa",
   "metadata": {},
   "outputs": [
    {
     "data": {
      "text/plain": [
       "Twitter for Android    7602289\n",
       "Twitter for iPhone     2641375\n",
       "Instagram               407269\n",
       "Central132               20990\n",
       "Twitter for iPad          7734\n",
       "                        ...   \n",
       "OS X                         1\n",
       "Postmypost                   1\n",
       "patrimonial.site             1\n",
       "Twitter for  iPhone          1\n",
       "SoundHound                   1\n",
       "Name: source, Length: 114, dtype: int64"
      ]
     },
     "execution_count": 12,
     "metadata": {},
     "output_type": "execute_result"
    }
   ],
   "source": [
    "df.source.value_counts()"
   ]
  },
  {
   "cell_type": "code",
   "execution_count": 13,
   "id": "fe1c5cf1",
   "metadata": {},
   "outputs": [
    {
     "data": {
      "text/plain": [
       "False    10601243\n",
       "True       110057\n",
       "Name: possibly_sensitive, dtype: int64"
      ]
     },
     "execution_count": 13,
     "metadata": {},
     "output_type": "execute_result"
    }
   ],
   "source": [
    "df.possibly_sensitive.value_counts()"
   ]
  },
  {
   "cell_type": "code",
   "execution_count": 14,
   "id": "968a8ac6",
   "metadata": {},
   "outputs": [
    {
     "data": {
      "text/plain": [
       "<AxesSubplot:>"
      ]
     },
     "execution_count": 14,
     "metadata": {},
     "output_type": "execute_result"
    },
    {
     "data": {
      "image/png": "[encoded data removed]",
      "text/plain": [
       "<Figure size 432x288 with 1 Axes>"
      ]
     },
     "metadata": {
      "needs_background": "light"
     },
     "output_type": "display_data"
    }
   ],
   "source": [
    "df.geo_country_code.value_counts().plot.bar()"
   ]
  },
  {
   "cell_type": "code",
   "execution_count": 15,
   "id": "4d630733",
   "metadata": {},
   "outputs": [
    {
     "data": {
      "text/plain": [
       "Colombia                       2687600\n",
       "Brésil                         2317893\n",
       "Brazil                         2075335\n",
       "Venezuela                      1220375\n",
       "Brasile                         721656\n",
       "Ecuador                         546745\n",
       "Argentina                       451201\n",
       "Chile                           202576\n",
       "Argentine                       175314\n",
       "Chili                           141638\n",
       "Peru                             93818\n",
       "Brasilien                        51102\n",
       "Uruguay                          46415\n",
       "Trinidad and Tobago              22805\n",
       "Paraguay                         15708\n",
       "Bolivie                          13291\n",
       "Bolivia                          10254\n",
       "Guyana                            9274\n",
       "Aruba                             4319\n",
       "Suriname                          3932\n",
       "Fransk Guyana                     2080\n",
       "Curaçao                            634\n",
       "Falkland Islands (Malvinas)        193\n",
       "Panama                              35\n",
       "French Guiana                       20\n",
       "Name: geo_country, dtype: int64"
      ]
     },
     "execution_count": 15,
     "metadata": {},
     "output_type": "execute_result"
    }
   ],
   "source": [
    "df.geo_country.value_counts()"
   ]
  },
  {
   "cell_type": "code",
   "execution_count": 16,
   "id": "60dffe19",
   "metadata": {},
   "outputs": [
    {
     "data": {
      "text/plain": [
       "Bogotá, D.C., Colombia                                    930721\n",
       "Rio de Janeiro, Brésil                                    437731\n",
       "São Paulo, Brésil                                         400179\n",
       "Guayaquil, Ecuador                                        380278\n",
       "Medellín, Colombia                                        310253\n",
       "                                                           ...  \n",
       "Cia. Paulista de Estradas de Ferro (Museu Ferroviário)         1\n",
       "Jardim do Lago II, Campinas                                    1\n",
       "Doce Essência                                                  1\n",
       "Taquaral, Campinas                                             1\n",
       "Parque Croacia                                                 1\n",
       "Name: geo_full_name, Length: 27735, dtype: int64"
      ]
     },
     "execution_count": 16,
     "metadata": {},
     "output_type": "execute_result"
    }
   ],
   "source": [
    "df.geo_full_name.value_counts()"
   ]
  },
  {
   "cell_type": "code",
   "execution_count": 17,
   "id": "62659be7",
   "metadata": {},
   "outputs": [
    {
     "data": {
      "text/plain": [
       "{}    10814353\n",
       "Name: geo_geo_properties, dtype: int64"
      ]
     },
     "execution_count": 17,
     "metadata": {},
     "output_type": "execute_result"
    }
   ],
   "source": [
    "df.geo_geo_properties.value_counts()"
   ]
  },
  {
   "cell_type": "code",
   "execution_count": 18,
   "id": "e24ddfbc",
   "metadata": {},
   "outputs": [
    {
     "data": {
      "text/plain": [
       "False    10749873\n",
       "True        65199\n",
       "Name: author_verified, dtype: int64"
      ]
     },
     "execution_count": 18,
     "metadata": {},
     "output_type": "execute_result"
    }
   ],
   "source": [
    "df.author_verified.value_counts()"
   ]
  },
  {
   "cell_type": "code",
   "execution_count": 19,
   "id": "d80198df",
   "metadata": {},
   "outputs": [
    {
     "data": {
      "text/plain": [
       "False    10815072\n",
       "Name: author_protected, dtype: int64"
      ]
     },
     "execution_count": 19,
     "metadata": {},
     "output_type": "execute_result"
    }
   ],
   "source": [
    "df.author_protected.value_counts()"
   ]
  },
  {
   "cell_type": "code",
   "execution_count": 20,
   "id": "ab4e4ce5",
   "metadata": {},
   "outputs": [
    {
     "data": {
      "text/plain": [
       "False    10815072\n",
       "Name: author_protected, dtype: int64"
      ]
     },
     "execution_count": 20,
     "metadata": {},
     "output_type": "execute_result"
    }
   ],
   "source": [
    "df.author_protected.value_counts()"
   ]
  },
  {
   "cell_type": "markdown",
   "id": "cb570885",
   "metadata": {},
   "source": [
    "### NLP"
   ]
  },
  {
   "cell_type": "code",
   "execution_count": 21,
   "id": "fbb43f44",
   "metadata": {},
   "outputs": [],
   "source": [
    "df_nlp = df[['lang', 'id','text','geo_country_code','coordinates', 'lat', 'long','author_description','author_username','author_name', 'geo_country', 'geo_full_name']]"
   ]
  },
  {
   "cell_type": "code",
   "execution_count": 38,
   "id": "f690e7fd",
   "metadata": {},
   "outputs": [
    {
     "ename": "IndexError",
     "evalue": "string index out of range",
     "output_type": "error",
     "traceback": [
      "\u001b[0;31m---------------------------------------------------------------------------\u001b[0m",
      "\u001b[0;31mIndexError\u001b[0m                                Traceback (most recent call last)",
      "\u001b[0;32m<timed exec>\u001b[0m in \u001b[0;36m<module>\u001b[0;34m\u001b[0m\n",
      "\u001b[0;32m~/anaconda3/lib/python3.8/site-packages/pandas/core/series.py\u001b[0m in \u001b[0;36mapply\u001b[0;34m(self, func, convert_dtype, args, **kwargs)\u001b[0m\n\u001b[1;32m   4355\u001b[0m         \u001b[0mdtype\u001b[0m\u001b[0;34m:\u001b[0m \u001b[0mfloat64\u001b[0m\u001b[0;34m\u001b[0m\u001b[0;34m\u001b[0m\u001b[0m\n\u001b[1;32m   4356\u001b[0m         \"\"\"\n\u001b[0;32m-> 4357\u001b[0;31m         \u001b[0;32mreturn\u001b[0m \u001b[0mSeriesApply\u001b[0m\u001b[0;34m(\u001b[0m\u001b[0mself\u001b[0m\u001b[0;34m,\u001b[0m \u001b[0mfunc\u001b[0m\u001b[0;34m,\u001b[0m \u001b[0mconvert_dtype\u001b[0m\u001b[0;34m,\u001b[0m \u001b[0margs\u001b[0m\u001b[0;34m,\u001b[0m \u001b[0mkwargs\u001b[0m\u001b[0;34m)\u001b[0m\u001b[0;34m.\u001b[0m\u001b[0mapply\u001b[0m\u001b[0;34m(\u001b[0m\u001b[0;34m)\u001b[0m\u001b[0;34m\u001b[0m\u001b[0;34m\u001b[0m\u001b[0m\n\u001b[0m\u001b[1;32m   4358\u001b[0m \u001b[0;34m\u001b[0m\u001b[0m\n\u001b[1;32m   4359\u001b[0m     def _reduce(\n",
      "\u001b[0;32m~/anaconda3/lib/python3.8/site-packages/pandas/core/apply.py\u001b[0m in \u001b[0;36mapply\u001b[0;34m(self)\u001b[0m\n\u001b[1;32m   1041\u001b[0m             \u001b[0;32mreturn\u001b[0m \u001b[0mself\u001b[0m\u001b[0;34m.\u001b[0m\u001b[0mapply_str\u001b[0m\u001b[0;34m(\u001b[0m\u001b[0;34m)\u001b[0m\u001b[0;34m\u001b[0m\u001b[0;34m\u001b[0m\u001b[0m\n\u001b[1;32m   1042\u001b[0m \u001b[0;34m\u001b[0m\u001b[0m\n\u001b[0;32m-> 1043\u001b[0;31m         \u001b[0;32mreturn\u001b[0m \u001b[0mself\u001b[0m\u001b[0;34m.\u001b[0m\u001b[0mapply_standard\u001b[0m\u001b[0;34m(\u001b[0m\u001b[0;34m)\u001b[0m\u001b[0;34m\u001b[0m\u001b[0;34m\u001b[0m\u001b[0m\n\u001b[0m\u001b[1;32m   1044\u001b[0m \u001b[0;34m\u001b[0m\u001b[0m\n\u001b[1;32m   1045\u001b[0m     \u001b[0;32mdef\u001b[0m \u001b[0magg\u001b[0m\u001b[0;34m(\u001b[0m\u001b[0mself\u001b[0m\u001b[0;34m)\u001b[0m\u001b[0;34m:\u001b[0m\u001b[0;34m\u001b[0m\u001b[0;34m\u001b[0m\u001b[0m\n",
      "\u001b[0;32m~/anaconda3/lib/python3.8/site-packages/pandas/core/apply.py\u001b[0m in \u001b[0;36mapply_standard\u001b[0;34m(self)\u001b[0m\n\u001b[1;32m   1096\u001b[0m                 \u001b[0;31m# List[Union[Callable[..., Any], str]]]]]\"; expected\u001b[0m\u001b[0;34m\u001b[0m\u001b[0;34m\u001b[0m\u001b[0;34m\u001b[0m\u001b[0m\n\u001b[1;32m   1097\u001b[0m                 \u001b[0;31m# \"Callable[[Any], Any]\"\u001b[0m\u001b[0;34m\u001b[0m\u001b[0;34m\u001b[0m\u001b[0;34m\u001b[0m\u001b[0m\n\u001b[0;32m-> 1098\u001b[0;31m                 mapped = lib.map_infer(\n\u001b[0m\u001b[1;32m   1099\u001b[0m                     \u001b[0mvalues\u001b[0m\u001b[0;34m,\u001b[0m\u001b[0;34m\u001b[0m\u001b[0;34m\u001b[0m\u001b[0m\n\u001b[1;32m   1100\u001b[0m                     \u001b[0mf\u001b[0m\u001b[0;34m,\u001b[0m  \u001b[0;31m# type: ignore[arg-type]\u001b[0m\u001b[0;34m\u001b[0m\u001b[0;34m\u001b[0m\u001b[0m\n",
      "\u001b[0;32m~/anaconda3/lib/python3.8/site-packages/pandas/_libs/lib.pyx\u001b[0m in \u001b[0;36mpandas._libs.lib.map_infer\u001b[0;34m()\u001b[0m\n",
      "\u001b[0;32m<timed exec>\u001b[0m in \u001b[0;36m<lambda>\u001b[0;34m(x)\u001b[0m\n",
      "\u001b[0;32m~/DS/Mosmovi/Mosmovi/utils/text_preprocessing.py\u001b[0m in \u001b[0;36mpreprocess\u001b[0;34m(sample)\u001b[0m\n\u001b[1;32m     88\u001b[0m \u001b[0;32mdef\u001b[0m \u001b[0mpreprocess\u001b[0m\u001b[0;34m(\u001b[0m\u001b[0msample\u001b[0m\u001b[0;34m)\u001b[0m\u001b[0;34m:\u001b[0m\u001b[0;34m\u001b[0m\u001b[0;34m\u001b[0m\u001b[0m\n\u001b[1;32m     89\u001b[0m         \u001b[0msample\u001b[0m \u001b[0;34m=\u001b[0m \u001b[0mremove_URL\u001b[0m\u001b[0;34m(\u001b[0m\u001b[0msample\u001b[0m\u001b[0;34m)\u001b[0m\u001b[0;34m\u001b[0m\u001b[0;34m\u001b[0m\u001b[0m\n\u001b[0;32m---> 90\u001b[0;31m         \u001b[0;31m# sample = replace_contractions(sample)\u001b[0m\u001b[0;34m\u001b[0m\u001b[0;34m\u001b[0m\u001b[0;34m\u001b[0m\u001b[0m\n\u001b[0m\u001b[1;32m     91\u001b[0m         \u001b[0;31m# Tokenize\u001b[0m\u001b[0;34m\u001b[0m\u001b[0;34m\u001b[0m\u001b[0;34m\u001b[0m\u001b[0m\n\u001b[1;32m     92\u001b[0m         \u001b[0mwords\u001b[0m \u001b[0;34m=\u001b[0m \u001b[0mnltk\u001b[0m\u001b[0;34m.\u001b[0m\u001b[0mword_tokenize\u001b[0m\u001b[0;34m(\u001b[0m\u001b[0msample\u001b[0m\u001b[0;34m)\u001b[0m\u001b[0;34m\u001b[0m\u001b[0;34m\u001b[0m\u001b[0m\n",
      "\u001b[0;32m~/DS/Mosmovi/Mosmovi/utils/text_preprocessing.py\u001b[0m in \u001b[0;36mreplace_contractions\u001b[0;34m(text)\u001b[0m\n\u001b[1;32m      9\u001b[0m \u001b[0;32mdef\u001b[0m \u001b[0mreplace_contractions\u001b[0m\u001b[0;34m(\u001b[0m\u001b[0mtext\u001b[0m\u001b[0;34m)\u001b[0m\u001b[0;34m:\u001b[0m\u001b[0;34m\u001b[0m\u001b[0;34m\u001b[0m\u001b[0m\n\u001b[1;32m     10\u001b[0m         \u001b[0;34m\"\"\"Replace contractions in string of text\"\"\"\u001b[0m\u001b[0;34m\u001b[0m\u001b[0;34m\u001b[0m\u001b[0m\n\u001b[0;32m---> 11\u001b[0;31m         \u001b[0;32mreturn\u001b[0m \u001b[0mcontractions\u001b[0m\u001b[0;34m.\u001b[0m\u001b[0mfix\u001b[0m\u001b[0;34m(\u001b[0m\u001b[0mtext\u001b[0m\u001b[0;34m)\u001b[0m\u001b[0;34m\u001b[0m\u001b[0;34m\u001b[0m\u001b[0m\n\u001b[0m\u001b[1;32m     12\u001b[0m \u001b[0;34m\u001b[0m\u001b[0m\n\u001b[1;32m     13\u001b[0m \u001b[0;32mdef\u001b[0m \u001b[0mremove_URL\u001b[0m\u001b[0;34m(\u001b[0m\u001b[0msample\u001b[0m\u001b[0;34m)\u001b[0m\u001b[0;34m:\u001b[0m\u001b[0;34m\u001b[0m\u001b[0;34m\u001b[0m\u001b[0m\n",
      "\u001b[0;32m~/anaconda3/lib/python3.8/site-packages/contractions/__init__.py\u001b[0m in \u001b[0;36mfix\u001b[0;34m(s, leftovers, slang)\u001b[0m\n\u001b[1;32m    100\u001b[0m \u001b[0;32mdef\u001b[0m \u001b[0mfix\u001b[0m\u001b[0;34m(\u001b[0m\u001b[0ms\u001b[0m\u001b[0;34m,\u001b[0m \u001b[0mleftovers\u001b[0m\u001b[0;34m=\u001b[0m\u001b[0;32mTrue\u001b[0m\u001b[0;34m,\u001b[0m \u001b[0mslang\u001b[0m\u001b[0;34m=\u001b[0m\u001b[0;32mTrue\u001b[0m\u001b[0;34m)\u001b[0m\u001b[0;34m:\u001b[0m\u001b[0;34m\u001b[0m\u001b[0;34m\u001b[0m\u001b[0m\n\u001b[1;32m    101\u001b[0m     \u001b[0mts\u001b[0m \u001b[0;34m=\u001b[0m \u001b[0mreplacers\u001b[0m\u001b[0;34m[\u001b[0m\u001b[0;34m(\u001b[0m\u001b[0mleftovers\u001b[0m\u001b[0;34m,\u001b[0m \u001b[0mslang\u001b[0m\u001b[0;34m)\u001b[0m\u001b[0;34m]\u001b[0m\u001b[0;34m\u001b[0m\u001b[0;34m\u001b[0m\u001b[0m\n\u001b[0;32m--> 102\u001b[0;31m     \u001b[0;32mreturn\u001b[0m \u001b[0mts\u001b[0m\u001b[0;34m.\u001b[0m\u001b[0mreplace\u001b[0m\u001b[0;34m(\u001b[0m\u001b[0ms\u001b[0m\u001b[0;34m)\u001b[0m\u001b[0;34m\u001b[0m\u001b[0;34m\u001b[0m\u001b[0m\n\u001b[0m\u001b[1;32m    103\u001b[0m \u001b[0;34m\u001b[0m\u001b[0m\n\u001b[1;32m    104\u001b[0m \u001b[0;34m\u001b[0m\u001b[0m\n",
      "\u001b[0;32m~/anaconda3/lib/python3.8/site-packages/textsearch/__init__.py\u001b[0m in \u001b[0;36mreplace\u001b[0;34m(self, text, return_entities)\u001b[0m\n\u001b[1;32m    559\u001b[0m                 \u001b[0;32mif\u001b[0m \u001b[0mcompare\u001b[0m \u001b[0;32mand\u001b[0m \u001b[0mcompare\u001b[0m \u001b[0;32mis\u001b[0m \u001b[0;32mnot\u001b[0m \u001b[0mnorm\u001b[0m\u001b[0;34m:\u001b[0m\u001b[0;34m\u001b[0m\u001b[0;34m\u001b[0m\u001b[0m\n\u001b[1;32m    560\u001b[0m                     \u001b[0;32mcontinue\u001b[0m\u001b[0;34m\u001b[0m\u001b[0;34m\u001b[0m\u001b[0m\n\u001b[0;32m--> 561\u001b[0;31m                 \u001b[0mstart\u001b[0m\u001b[0;34m,\u001b[0m \u001b[0mstop\u001b[0m\u001b[0;34m,\u001b[0m \u001b[0mresult\u001b[0m \u001b[0;34m=\u001b[0m \u001b[0mhandler\u001b[0m\u001b[0;34m(\u001b[0m\u001b[0mtext\u001b[0m\u001b[0;34m,\u001b[0m \u001b[0mstart\u001b[0m\u001b[0;34m,\u001b[0m \u001b[0mstop\u001b[0m\u001b[0;34m,\u001b[0m \u001b[0mnorm\u001b[0m\u001b[0;34m)\u001b[0m\u001b[0;34m\u001b[0m\u001b[0;34m\u001b[0m\u001b[0m\n\u001b[0m\u001b[1;32m    562\u001b[0m                 \u001b[0;32mif\u001b[0m \u001b[0mresult\u001b[0m \u001b[0;32mis\u001b[0m \u001b[0;32mNone\u001b[0m\u001b[0;34m:\u001b[0m  \u001b[0;31m# maybe want to remove this\u001b[0m\u001b[0;34m\u001b[0m\u001b[0;34m\u001b[0m\u001b[0m\n\u001b[1;32m    563\u001b[0m                     \u001b[0;32mbreak\u001b[0m\u001b[0;34m\u001b[0m\u001b[0;34m\u001b[0m\u001b[0m\n",
      "\u001b[0;32m~/anaconda3/lib/python3.8/site-packages/textsearch/__init__.py\u001b[0m in \u001b[0;36mbounds_check\u001b[0;34m(self, text, start, stop, norm)\u001b[0m\n\u001b[1;32m    369\u001b[0m \u001b[0;34m\u001b[0m\u001b[0m\n\u001b[1;32m    370\u001b[0m     \u001b[0;32mdef\u001b[0m \u001b[0mbounds_check\u001b[0m\u001b[0;34m(\u001b[0m\u001b[0mself\u001b[0m\u001b[0;34m,\u001b[0m \u001b[0mtext\u001b[0m\u001b[0;34m,\u001b[0m \u001b[0mstart\u001b[0m\u001b[0;34m,\u001b[0m \u001b[0mstop\u001b[0m\u001b[0;34m,\u001b[0m \u001b[0mnorm\u001b[0m\u001b[0;34m)\u001b[0m\u001b[0;34m:\u001b[0m\u001b[0;34m\u001b[0m\u001b[0;34m\u001b[0m\u001b[0m\n\u001b[0;32m--> 371\u001b[0;31m         \u001b[0;32mif\u001b[0m \u001b[0mlen\u001b[0m\u001b[0;34m(\u001b[0m\u001b[0mtext\u001b[0m\u001b[0;34m)\u001b[0m \u001b[0;34m!=\u001b[0m \u001b[0mstop\u001b[0m \u001b[0;32mand\u001b[0m \u001b[0mtext\u001b[0m\u001b[0;34m[\u001b[0m\u001b[0mstop\u001b[0m\u001b[0;34m]\u001b[0m \u001b[0;32min\u001b[0m \u001b[0mself\u001b[0m\u001b[0;34m.\u001b[0m\u001b[0mright_bound_chars\u001b[0m\u001b[0;34m:\u001b[0m\u001b[0;34m\u001b[0m\u001b[0;34m\u001b[0m\u001b[0m\n\u001b[0m\u001b[1;32m    372\u001b[0m             \u001b[0;32mreturn\u001b[0m \u001b[0;32mNone\u001b[0m\u001b[0;34m,\u001b[0m \u001b[0;32mNone\u001b[0m\u001b[0;34m,\u001b[0m \u001b[0;32mNone\u001b[0m\u001b[0;34m\u001b[0m\u001b[0;34m\u001b[0m\u001b[0m\n\u001b[1;32m    373\u001b[0m         \u001b[0;31m# watch out... cannot just get index as we might risk -1\u001b[0m\u001b[0;34m\u001b[0m\u001b[0;34m\u001b[0m\u001b[0;34m\u001b[0m\u001b[0m\n",
      "\u001b[0;31mIndexError\u001b[0m: string index out of range"
     ]
    }
   ],
   "source": [
    "%%time\n",
    "df_nlp.text = df_nlp.text.apply(lambda x : TP.preprocess(str(x))) "
   ]
  },
  {
   "cell_type": "code",
   "execution_count": 32,
   "id": "78103b35",
   "metadata": {},
   "outputs": [
    {
     "name": "stdout",
     "output_type": "stream",
     "text": [
      "100 @MirellyMurta Eu só preciso do perdão por matar 16 pessoas\n",
      "100 @MirellyMurta Eu só preciso do perdão por matar 16 pessoas\n",
      "--\n",
      "['por', 'matar', '16', 'pessoas']\n",
      "Riacho dos Machados, Brasil\n",
      "ANNANNA AJBS_AJBS_AJBS\n",
      "\n",
      "\n",
      "101 Momento decisivo pra minha Brat. Depois de 6 meses parada por causa do motor, essa semana vendo ou compro outro motor e invisto mais ainda na estética para ficar com ela. https://t.co/lGWTHJgR3D\n",
      "101 Momento decisivo pra minha Brat. Depois de 6 meses parada por causa do motor, essa semana vendo ou compro outro motor e invisto mais ainda na estética para ficar com ela. \n",
      "--\n",
      "['.', 'https', ':', '//t.co/lGWTHJgR3D']\n",
      "Grão Mogol, Brasil\n",
      "DDi Oliveira DeybsonOliveira\n",
      "\n",
      "\n",
      "102 Samara me ajudou de novo com redação e a diferença foi de 80 pontos hihihi\n",
      "102 Samara me ajudou de novo com redação e a diferença foi de 80 pontos hihihi\n",
      "--\n",
      "['de', '80', 'pontos', 'hihihi']\n",
      "Riacho dos Machados, Brasil\n",
      "ANNANNA AJBS_AJBS_AJBS\n",
      "\n",
      "\n",
      "103 Nem eu tô guentando Raphaela viajando mais, imagina ela\n",
      "103 Nem eu tô guentando Raphaela viajando mais, imagina ela\n",
      "--\n",
      "['mais', ',', 'imagina', 'ela']\n",
      "Riacho dos Machados, Brasil\n",
      "ANNANNA AJBS_AJBS_AJBS\n",
      "\n",
      "\n",
      "104 Acabou de publicar uma foto em Prefeitura de Francisco Sá https://t.co/zRjYeJGqfj\n",
      "104 Acabou de publicar uma foto em Prefeitura de Francisco Sá \n",
      "--\n",
      "['Sá', 'https', ':', '//t.co/zRjYeJGqfj']\n",
      "Francisco Sá, Brasil\n",
      "Jornal do Povao jornaldopovao\n",
      "\n",
      "\n",
      "105 Um amanhecer fantástico em Montes Claros, MG. E você o que diz sobre essa cidade? Retweet SEGUE: @moceolugar  #catedral #montesclaros #mocéolugar #moceolugar #montesclarosminas #moc #montesclarosmg #nortedeminas  #wmcmidia #umminutook #nortedeminasgerais https://t.co/GcNJggmWlp\n",
      "105 Um amanhecer fantástico em Montes Claros, MG. E você o que diz sobre essa cidade? Retweet SEGUE: @moceolugar  #catedral #montesclaros #mocéolugar #moceolugar #montesclarosminas #moc #montesclarosmg #nortedeminas  #wmcmidia #umminutook #nortedeminasgerais \n",
      "--\n",
      "['nortedeminasgerais', 'https', ':', '//t.co/GcNJggmWlp']\n",
      "Josenópolis, Brasil\n",
      "Montes Claros MG moceolugar\n",
      "\n",
      "\n",
      "106 Acabou de publicar uma foto em Mercado Municipal de Salinas MG https://t.co/loKyoRVDeD\n",
      "106 Acabou de publicar uma foto em Mercado Municipal de Salinas MG \n",
      "--\n",
      "['MG', 'https', ':', '//t.co/loKyoRVDeD']\n",
      "Salinas, Brasil\n",
      "Norte de Minas MG nortedeminasmg\n",
      "\n",
      "\n",
      "107 Um dia dos pais com uma reconciliação tão aguardada na família 💛 https://t.co/L4wCFBqO5p\n",
      "107 Um dia dos pais com uma reconciliação tão aguardada na família 💛 \n",
      "--\n",
      "['💛', 'https', ':', '//t.co/L4wCFBqO5p']\n",
      "Francisco Sá, Brasil\n",
      "Mozão mozao111\n",
      "\n",
      "\n",
      "108 Queria MT ter a opção de passar o dia dos pais na casa de vó Maria...\n",
      "108 Queria MT ter a opção de passar o dia dos pais na casa de vó Maria...\n",
      "--\n",
      "['de', 'vó', 'Maria', '...']\n",
      "Riacho dos Machados, Brasil\n",
      "ANNANNA AJBS_AJBS_AJBS\n",
      "\n",
      "\n",
      "109 Aquela preguiça justificada do domingo...... em Salinas MG - A Nossa Cidade https://t.co/Axv2gLwl9e\n",
      "109 Aquela preguiça justificada do domingo...... em Salinas MG - A Nossa Cidade \n",
      "--\n",
      "['Cidade', 'https', ':', '//t.co/Axv2gLwl9e']\n",
      "Salinas, Brasil\n",
      "Carlos Schirmer 🇧🇷 🇦🇹 🇵🇹 CSchirmer\n",
      "\n",
      "\n"
     ]
    }
   ],
   "source": [
    "for x, y in df_nlp.iloc[100:110].iterrows():\n",
    "    print(x, y.text)\n",
    "    print(x, TP.remove_URL(y.text))\n",
    "    print('--')\n",
    "    print(word_tokenize(y.text)[-4:])\n",
    "    print(y.geo_full_name)\n",
    "    print(y.author_name, y.author_username)\n",
    "    print('\\n')\n"
   ]
  },
  {
   "cell_type": "code",
   "execution_count": 23,
   "id": "810feb09",
   "metadata": {},
   "outputs": [
    {
     "data": {
      "text/plain": [
       "['Just',\n",
       " 'posted',\n",
       " 'a',\n",
       " 'photo',\n",
       " '@',\n",
       " 'Ciudad',\n",
       " 'Trinidad',\n",
       " ',',\n",
       " 'El',\n",
       " 'Beni',\n",
       " ',',\n",
       " 'Bolivia',\n",
       " 'https',\n",
       " ':',\n",
       " '//t.co/CLDsduAnrq']"
      ]
     },
     "execution_count": 23,
     "metadata": {},
     "output_type": "execute_result"
    }
   ],
   "source": [
    "word_tokenize(df_nlp.text.iloc[0])"
   ]
  },
  {
   "cell_type": "code",
   "execution_count": 24,
   "id": "81edbc29",
   "metadata": {},
   "outputs": [
    {
     "ename": "KeyError",
     "evalue": "''",
     "output_type": "error",
     "traceback": [
      "\u001b[0;31m---------------------------------------------------------------------------\u001b[0m",
      "\u001b[0;31mKeyError\u001b[0m                                  Traceback (most recent call last)",
      "\u001b[0;32m~/anaconda3/lib/python3.8/site-packages/pandas/core/indexes/base.py\u001b[0m in \u001b[0;36mget_loc\u001b[0;34m(self, key, method, tolerance)\u001b[0m\n\u001b[1;32m   3360\u001b[0m             \u001b[0;32mtry\u001b[0m\u001b[0;34m:\u001b[0m\u001b[0;34m\u001b[0m\u001b[0;34m\u001b[0m\u001b[0m\n\u001b[0;32m-> 3361\u001b[0;31m                 \u001b[0;32mreturn\u001b[0m \u001b[0mself\u001b[0m\u001b[0;34m.\u001b[0m\u001b[0m_engine\u001b[0m\u001b[0;34m.\u001b[0m\u001b[0mget_loc\u001b[0m\u001b[0;34m(\u001b[0m\u001b[0mcasted_key\u001b[0m\u001b[0;34m)\u001b[0m\u001b[0;34m\u001b[0m\u001b[0;34m\u001b[0m\u001b[0m\n\u001b[0m\u001b[1;32m   3362\u001b[0m             \u001b[0;32mexcept\u001b[0m \u001b[0mKeyError\u001b[0m \u001b[0;32mas\u001b[0m \u001b[0merr\u001b[0m\u001b[0;34m:\u001b[0m\u001b[0;34m\u001b[0m\u001b[0;34m\u001b[0m\u001b[0m\n",
      "\u001b[0;32m~/anaconda3/lib/python3.8/site-packages/pandas/_libs/index.pyx\u001b[0m in \u001b[0;36mpandas._libs.index.IndexEngine.get_loc\u001b[0;34m()\u001b[0m\n",
      "\u001b[0;32m~/anaconda3/lib/python3.8/site-packages/pandas/_libs/index.pyx\u001b[0m in \u001b[0;36mpandas._libs.index.IndexEngine.get_loc\u001b[0;34m()\u001b[0m\n",
      "\u001b[0;32mpandas/_libs/hashtable_class_helper.pxi\u001b[0m in \u001b[0;36mpandas._libs.hashtable.PyObjectHashTable.get_item\u001b[0;34m()\u001b[0m\n",
      "\u001b[0;32mpandas/_libs/hashtable_class_helper.pxi\u001b[0m in \u001b[0;36mpandas._libs.hashtable.PyObjectHashTable.get_item\u001b[0;34m()\u001b[0m\n",
      "\u001b[0;31mKeyError\u001b[0m: ''",
      "\nThe above exception was the direct cause of the following exception:\n",
      "\u001b[0;31mKeyError\u001b[0m                                  Traceback (most recent call last)",
      "\u001b[0;32m<ipython-input-24-8674d4eed5aa>\u001b[0m in \u001b[0;36m<module>\u001b[0;34m\u001b[0m\n\u001b[0;32m----> 1\u001b[0;31m \u001b[0mdf_nlp\u001b[0m\u001b[0;34m[\u001b[0m\u001b[0;34m''\u001b[0m\u001b[0;34m]\u001b[0m\u001b[0;34m\u001b[0m\u001b[0;34m\u001b[0m\u001b[0m\n\u001b[0m",
      "\u001b[0;32m~/anaconda3/lib/python3.8/site-packages/pandas/core/frame.py\u001b[0m in \u001b[0;36m__getitem__\u001b[0;34m(self, key)\u001b[0m\n\u001b[1;32m   3456\u001b[0m             \u001b[0;32mif\u001b[0m \u001b[0mself\u001b[0m\u001b[0;34m.\u001b[0m\u001b[0mcolumns\u001b[0m\u001b[0;34m.\u001b[0m\u001b[0mnlevels\u001b[0m \u001b[0;34m>\u001b[0m \u001b[0;36m1\u001b[0m\u001b[0;34m:\u001b[0m\u001b[0;34m\u001b[0m\u001b[0;34m\u001b[0m\u001b[0m\n\u001b[1;32m   3457\u001b[0m                 \u001b[0;32mreturn\u001b[0m \u001b[0mself\u001b[0m\u001b[0;34m.\u001b[0m\u001b[0m_getitem_multilevel\u001b[0m\u001b[0;34m(\u001b[0m\u001b[0mkey\u001b[0m\u001b[0;34m)\u001b[0m\u001b[0;34m\u001b[0m\u001b[0;34m\u001b[0m\u001b[0m\n\u001b[0;32m-> 3458\u001b[0;31m             \u001b[0mindexer\u001b[0m \u001b[0;34m=\u001b[0m \u001b[0mself\u001b[0m\u001b[0;34m.\u001b[0m\u001b[0mcolumns\u001b[0m\u001b[0;34m.\u001b[0m\u001b[0mget_loc\u001b[0m\u001b[0;34m(\u001b[0m\u001b[0mkey\u001b[0m\u001b[0;34m)\u001b[0m\u001b[0;34m\u001b[0m\u001b[0;34m\u001b[0m\u001b[0m\n\u001b[0m\u001b[1;32m   3459\u001b[0m             \u001b[0;32mif\u001b[0m \u001b[0mis_integer\u001b[0m\u001b[0;34m(\u001b[0m\u001b[0mindexer\u001b[0m\u001b[0;34m)\u001b[0m\u001b[0;34m:\u001b[0m\u001b[0;34m\u001b[0m\u001b[0;34m\u001b[0m\u001b[0m\n\u001b[1;32m   3460\u001b[0m                 \u001b[0mindexer\u001b[0m \u001b[0;34m=\u001b[0m \u001b[0;34m[\u001b[0m\u001b[0mindexer\u001b[0m\u001b[0;34m]\u001b[0m\u001b[0;34m\u001b[0m\u001b[0;34m\u001b[0m\u001b[0m\n",
      "\u001b[0;32m~/anaconda3/lib/python3.8/site-packages/pandas/core/indexes/base.py\u001b[0m in \u001b[0;36mget_loc\u001b[0;34m(self, key, method, tolerance)\u001b[0m\n\u001b[1;32m   3361\u001b[0m                 \u001b[0;32mreturn\u001b[0m \u001b[0mself\u001b[0m\u001b[0;34m.\u001b[0m\u001b[0m_engine\u001b[0m\u001b[0;34m.\u001b[0m\u001b[0mget_loc\u001b[0m\u001b[0;34m(\u001b[0m\u001b[0mcasted_key\u001b[0m\u001b[0;34m)\u001b[0m\u001b[0;34m\u001b[0m\u001b[0;34m\u001b[0m\u001b[0m\n\u001b[1;32m   3362\u001b[0m             \u001b[0;32mexcept\u001b[0m \u001b[0mKeyError\u001b[0m \u001b[0;32mas\u001b[0m \u001b[0merr\u001b[0m\u001b[0;34m:\u001b[0m\u001b[0;34m\u001b[0m\u001b[0;34m\u001b[0m\u001b[0m\n\u001b[0;32m-> 3363\u001b[0;31m                 \u001b[0;32mraise\u001b[0m \u001b[0mKeyError\u001b[0m\u001b[0;34m(\u001b[0m\u001b[0mkey\u001b[0m\u001b[0;34m)\u001b[0m \u001b[0;32mfrom\u001b[0m \u001b[0merr\u001b[0m\u001b[0;34m\u001b[0m\u001b[0;34m\u001b[0m\u001b[0m\n\u001b[0m\u001b[1;32m   3364\u001b[0m \u001b[0;34m\u001b[0m\u001b[0m\n\u001b[1;32m   3365\u001b[0m         \u001b[0;32mif\u001b[0m \u001b[0mis_scalar\u001b[0m\u001b[0;34m(\u001b[0m\u001b[0mkey\u001b[0m\u001b[0;34m)\u001b[0m \u001b[0;32mand\u001b[0m \u001b[0misna\u001b[0m\u001b[0;34m(\u001b[0m\u001b[0mkey\u001b[0m\u001b[0;34m)\u001b[0m \u001b[0;32mand\u001b[0m \u001b[0;32mnot\u001b[0m \u001b[0mself\u001b[0m\u001b[0;34m.\u001b[0m\u001b[0mhasnans\u001b[0m\u001b[0;34m:\u001b[0m\u001b[0;34m\u001b[0m\u001b[0;34m\u001b[0m\u001b[0m\n",
      "\u001b[0;31mKeyError\u001b[0m: ''"
     ]
    }
   ],
   "source": [
    "df_nlp['']"
   ]
  }
 ],
 "metadata": {
  "kernelspec": {
   "display_name": "Python 3",
   "language": "python",
   "name": "python3"
  },
  "language_info": {
   "codemirror_mode": {
    "name": "ipython",
    "version": 3
   },
   "file_extension": ".py",
   "mimetype": "text/x-python",
   "name": "python",
   "nbconvert_exporter": "python",
   "pygments_lexer": "ipython3",
   "version": "3.8.8"
  }
 },
 "nbformat": 4,
 "nbformat_minor": 5
}
